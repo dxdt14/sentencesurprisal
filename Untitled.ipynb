{
 "cells": [
  {
   "cell_type": "code",
   "execution_count": 1,
   "id": "3219433f",
   "metadata": {},
   "outputs": [],
   "source": [
    "import numpy as np\n",
    "import pandas as pd\n",
    "import random as rand"
   ]
  },
  {
   "cell_type": "code",
   "execution_count": 2,
   "id": "b0238c9c",
   "metadata": {},
   "outputs": [],
   "source": [
    "file = open(\"yelp/train.txt\", \"r\")\n",
    "file_data = file.read()\n",
    "lines = file_data.splitlines()\n",
    "file.close()\n",
    "\n",
    "data = []"
   ]
  },
  {
   "cell_type": "code",
   "execution_count": 3,
   "id": "1e4183d5",
   "metadata": {},
   "outputs": [],
   "source": [
    "keyword = \"pizza\"\n",
    "for s in lines:\n",
    "    if keyword in s:\n",
    "        data.append(s)"
   ]
  },
  {
   "cell_type": "code",
   "execution_count": 4,
   "id": "ebc4f11a",
   "metadata": {},
   "outputs": [
    {
     "name": "stdout",
     "output_type": "stream",
     "text": [
      "2145\n"
     ]
    }
   ],
   "source": [
    "print(len(data))"
   ]
  },
  {
   "cell_type": "code",
   "execution_count": 5,
   "id": "7ddee36a",
   "metadata": {},
   "outputs": [
    {
     "name": "stdout",
     "output_type": "stream",
     "text": [
      "[45, 140, 2088, 1161, 1429, 55, 1879, 1341, 342, 980, 1463, 566, 1726, 438, 1434, 1168, 1120, 126, 1496, 858, 1007, 387, 1649, 1470, 898, 859, 1922, 1587, 1197, 36, 461, 533, 1205, 1456, 313, 99, 2119, 1884, 56, 1561, 1847, 1253, 735, 35, 1660, 496, 1069, 1447, 803]\n"
     ]
    }
   ],
   "source": [
    "randlist = rand.sample(range(0, len(data)-1), 49)\n",
    "print(randlist)"
   ]
  },
  {
   "cell_type": "code",
   "execution_count": 6,
   "id": "f5828aaa",
   "metadata": {},
   "outputs": [],
   "source": [
    "with open(\"Manual Sentence Rankings.txt\", \"w\") as f:\n",
    "    for x in randlist:\n",
    "        f.write(data[x] + \"\\n\")\n",
    "    f.write(\"Colorless green ideas sleep furiously .\")\n",
    "    f.close()\n"
   ]
  },
  {
   "cell_type": "code",
   "execution_count": null,
   "id": "34f4f506",
   "metadata": {},
   "outputs": [],
   "source": []
  }
 ],
 "metadata": {
  "kernelspec": {
   "display_name": "Python 3 (ipykernel)",
   "language": "python",
   "name": "python3"
  },
  "language_info": {
   "codemirror_mode": {
    "name": "ipython",
    "version": 3
   },
   "file_extension": ".py",
   "mimetype": "text/x-python",
   "name": "python",
   "nbconvert_exporter": "python",
   "pygments_lexer": "ipython3",
   "version": "3.11.3"
  }
 },
 "nbformat": 4,
 "nbformat_minor": 5
}
