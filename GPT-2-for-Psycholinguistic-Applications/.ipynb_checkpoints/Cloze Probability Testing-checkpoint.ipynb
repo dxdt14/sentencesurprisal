{
 "cells": [
  {
   "cell_type": "code",
   "execution_count": 62,
   "id": "6b882349",
   "metadata": {},
   "outputs": [],
   "source": [
    "from get_probabilities import *\n",
    "import numpy as np\n",
    "import pandas as pd"
   ]
  },
  {
   "cell_type": "code",
   "execution_count": 6,
   "id": "760a51ce",
   "metadata": {},
   "outputs": [
    {
     "data": {
      "text/plain": [
       "array([0.        , 0.0409066 , 0.00012871, 0.00813118], dtype=float32)"
      ]
     },
     "execution_count": 6,
     "metadata": {},
     "output_type": "execute_result"
    }
   ],
   "source": [
    "cloze_allword(\"lawn\")"
   ]
  },
  {
   "cell_type": "code",
   "execution_count": 7,
   "id": "92d78753",
   "metadata": {},
   "outputs": [
    {
     "data": {
      "text/plain": [
       "array([0.000000e+00, 5.931186e-04, 7.043716e-06], dtype=float32)"
      ]
     },
     "execution_count": 7,
     "metadata": {},
     "output_type": "execute_result"
    }
   ],
   "source": [
    "cloze_allword([\"lawn\", \"the\", \"mow\"])"
   ]
  },
  {
   "cell_type": "code",
   "execution_count": 8,
   "id": "e2579465",
   "metadata": {},
   "outputs": [
    {
     "data": {
      "text/plain": [
       "array([0.0000000e+00, 4.3508870e-04, 1.1648185e-07, 2.7400322e-06,\n",
       "       2.8559724e-10], dtype=float32)"
      ]
     },
     "execution_count": 8,
     "metadata": {},
     "output_type": "execute_result"
    }
   ],
   "source": [
    "np.array(cloze_allword(parse_text(\"Colorless green ideas sleep furiously\"))) #can probably use something like this to generate probability of each sentence"
   ]
  },
  {
   "cell_type": "code",
   "execution_count": 9,
   "id": "5b1bb3c6",
   "metadata": {},
   "outputs": [
    {
     "ename": "NameError",
     "evalue": "name 'arr' is not defined",
     "output_type": "error",
     "traceback": [
      "\u001b[1;31m---------------------------------------------------------------------------\u001b[0m",
      "\u001b[1;31mNameError\u001b[0m                                 Traceback (most recent call last)",
      "Cell \u001b[1;32mIn[9], line 1\u001b[0m\n\u001b[1;32m----> 1\u001b[0m sen_prob \u001b[38;5;241m=\u001b[39m np\u001b[38;5;241m.\u001b[39mprod(\u001b[43marr\u001b[49m[\u001b[38;5;241m1\u001b[39m:])\n\u001b[0;32m      2\u001b[0m \u001b[38;5;28mprint\u001b[39m(sen_prob)\n\u001b[0;32m      3\u001b[0m \u001b[38;5;28mprint\u001b[39m(\u001b[38;5;241m-\u001b[39m\u001b[38;5;241m1\u001b[39m\u001b[38;5;241m*\u001b[39mnp\u001b[38;5;241m.\u001b[39mlog2(sen))\n",
      "\u001b[1;31mNameError\u001b[0m: name 'arr' is not defined"
     ]
    }
   ],
   "source": [
    "sen_prob = np.prod(arr[1:])\n",
    "print(sen_prob)\n",
    "print(-1*np.log2(sen))"
   ]
  },
  {
   "cell_type": "code",
   "execution_count": 116,
   "id": "d5ca9cb2",
   "metadata": {},
   "outputs": [],
   "source": [
    "file = open(r'C:\\Users\\vaj1\\Documents\\sentencesurprisal\\Manual Sentence Rankings.txt', \"r\", encoding = \"utf8\")\n",
    "file_data = file.read()\n",
    "lines = file_data.splitlines()\n",
    "file.close()\n",
    "\n",
    "data = []\n",
    "\n",
    "#only use senteces that contain the keyword\n",
    "keyword = \"\"\n",
    "for s in lines:\n",
    "    if keyword in s:\n",
    "        data.append(s)\n",
    "#data.append(\"Colorless green ideas sleep furiously .\")\n",
    "#data.append(\"Écriteau lumineux avec écrit pizza Kebab .\")\n",
    "data.append(\"What a nice day !\")"
   ]
  },
  {
   "cell_type": "code",
   "execution_count": 117,
   "id": "9eb5a846",
   "metadata": {},
   "outputs": [],
   "source": [
    "for i in range(len(data)):\n",
    "    data[i] = \"ø \" + data[i] + \" ø\""
   ]
  },
  {
   "cell_type": "code",
   "execution_count": 118,
   "id": "587674c9",
   "metadata": {},
   "outputs": [],
   "source": [
    "#print(data)"
   ]
  },
  {
   "cell_type": "code",
   "execution_count": null,
   "id": "a503522b",
   "metadata": {},
   "outputs": [],
   "source": []
  },
  {
   "cell_type": "code",
   "execution_count": 119,
   "id": "1b67d057",
   "metadata": {},
   "outputs": [],
   "source": [
    "surprisals = []\n",
    "data = np.array(data)\n",
    "for i in data:\n",
    "    surprisals.append(-(np.sum(np.log2(np.array(cloze_allword(parse_text(i)))[1:-1]))))\n",
    "ranked_surprisals = np.flip(np.argsort(surprisals))"
   ]
  },
  {
   "cell_type": "code",
   "execution_count": 120,
   "id": "f926bf29",
   "metadata": {},
   "outputs": [
    {
     "name": "stdout",
     "output_type": "stream",
     "text": [
      "[40]\n"
     ]
    }
   ],
   "source": [
    "print(np.where(ranked_surprisals == len(data)-2)[0])"
   ]
  },
  {
   "cell_type": "code",
   "execution_count": 121,
   "id": "a8b002d3",
   "metadata": {},
   "outputs": [
    {
     "name": "stdout",
     "output_type": "stream",
     "text": [
      "                                                    0\n",
      "0             Colorless green ideas sleep furiously .\n",
      "1   second-degree burns notwithstanding , the pizz...\n",
      "2   received a phone call the following day asking...\n",
      "3   this is the pizza i cut my first tooth on as a...\n",
      "4   as i mentioned it does n't look or taste quite...\n",
      "5   sadly , the pizza was sparsely topped with che...\n",
      "6   i tasted the pizza and the crust was undercook...\n",
      "7   we decided on uno because pizza sounded good t...\n",
      "8                           The pizza is like a cat .\n",
      "9   the owner was nice enough about refunding the ...\n",
      "10  my family decided to split a traditional pizza...\n",
      "11  i had the spinoccoli deep dish pizza and i lov...\n",
      "12  it was just a step up , maybe two , from froze...\n",
      "13  we ordered a large pizza here to go one night ...\n",
      "14  excellent pizza - although the mushrooms were ...\n",
      "15                                  What a nice day !\n",
      "16  i will be returning for my pizza fix again and...\n",
      "17  we sat down , ordered a pizza and it was serve...\n",
      "18      i just had a white pizza with added spinach .\n",
      "19             just not a fan of onions on my pizza .\n",
      "20                  my pizza still had onions in it .\n",
      "21                          thanks ny pizza express !\n",
      "22                 this is an old-school pizza shop !\n",
      "23                pizza by the slice are very large .\n",
      "24           the pizza is affordable and very tasty !\n",
      "25      i ordered pizza from this location recently .\n",
      "26              excellent pizza and excellent wings .\n",
      "27                            square pizza is weird .\n",
      "28                    the pizza place was very cozy .\n",
      "29                        great pizza , great price !\n",
      "30                    top _num_ pizza in pittsburgh .\n",
      "31                          this pizza is a classic !\n",
      "32                          the large pizza is huge .\n",
      "33                                got a large pizza .\n",
      "34                            pizza sounded amazing .\n",
      "35                        but , this is great pizza .\n",
      "36                                   terrible pizza .\n",
      "37                                  best pizza ever .\n",
      "38                                   horrible pizza .\n",
      "39                                    awesome pizza .\n",
      "40                                       good pizza .\n"
     ]
    }
   ],
   "source": [
    "sen_rankings = []\n",
    "for i in ranked_surprisals:\n",
    "    sen_rankings.append(data[i][2:-2])\n",
    "print(pd.DataFrame(sen_rankings))\n",
    "with open(\"GPT-2 Sentence_Rankings\", 'w') as f:\n",
    "    for i in sen_rankings:\n",
    "        f.write(i + \"\\n\")\n",
    "    f.close()"
   ]
  },
  {
   "cell_type": "code",
   "execution_count": 122,
   "id": "892be836",
   "metadata": {},
   "outputs": [
    {
     "name": "stdout",
     "output_type": "stream",
     "text": [
      "['Colorless green ideas sleep furiously .', 'second-degree burns notwithstanding , the pizza was tasty !', 'received a phone call the following day asking about their service and pizza .', 'this is the pizza i cut my first tooth on as a kid .', \"as i mentioned it does n't look or taste quite like a traditional pizza .\", 'sadly , the pizza was sparsely topped with cheese and sausage .', 'i tasted the pizza and the crust was undercooked and burnt on the edges .', 'we decided on uno because pizza sounded good to us .', 'The pizza is like a cat .', 'the owner was nice enough about refunding the money for the pizza .', 'my family decided to split a traditional pizza with pepperoni and mushroom .', 'i had the spinoccoli deep dish pizza and i loved it !', 'it was just a step up , maybe two , from frozen pizza .', 'we ordered a large pizza here to go one night and were not disappointed .', 'excellent pizza - although the mushrooms were from a can .', 'What a nice day !', 'i will be returning for my pizza fix again and again and again ...', 'we sat down , ordered a pizza and it was served within _num_ minutes .', 'i just had a white pizza with added spinach .', 'just not a fan of onions on my pizza .', 'my pizza still had onions in it .', 'thanks ny pizza express !', 'this is an old-school pizza shop !', 'pizza by the slice are very large .', 'the pizza is affordable and very tasty !', 'i ordered pizza from this location recently .', 'excellent pizza and excellent wings .', 'square pizza is weird .', 'the pizza place was very cozy .', 'great pizza , great price !', 'top _num_ pizza in pittsburgh .', 'this pizza is a classic !', 'the large pizza is huge .', 'got a large pizza .', 'pizza sounded amazing .', 'but , this is great pizza .', 'terrible pizza .', 'best pizza ever .', 'horrible pizza .', 'awesome pizza .', 'good pizza .']\n"
     ]
    }
   ],
   "source": [
    "print(sen_rankings)"
   ]
  },
  {
   "cell_type": "code",
   "execution_count": 123,
   "id": "e47a6120",
   "metadata": {},
   "outputs": [
    {
     "name": "stdout",
     "output_type": "stream",
     "text": [
      "15\n"
     ]
    }
   ],
   "source": [
    "print(np.where(np.array(sen_rankings) == \"What a nice day !\")[0][0])"
   ]
  },
  {
   "cell_type": "code",
   "execution_count": null,
   "id": "2d71748a",
   "metadata": {},
   "outputs": [],
   "source": []
  }
 ],
 "metadata": {
  "kernelspec": {
   "display_name": "Python (aitextgen)",
   "language": "python",
   "name": "aitextgen"
  },
  "language_info": {
   "codemirror_mode": {
    "name": "ipython",
    "version": 3
   },
   "file_extension": ".py",
   "mimetype": "text/x-python",
   "name": "python",
   "nbconvert_exporter": "python",
   "pygments_lexer": "ipython3",
   "version": "3.9.15"
  }
 },
 "nbformat": 4,
 "nbformat_minor": 5
}
