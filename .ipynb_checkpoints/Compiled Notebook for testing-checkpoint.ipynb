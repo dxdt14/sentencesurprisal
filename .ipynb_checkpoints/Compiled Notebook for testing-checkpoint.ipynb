{
 "cells": [
  {
   "cell_type": "code",
   "execution_count": 407,
   "id": "8bd86913",
   "metadata": {},
   "outputs": [],
   "source": [
    "import sklearn, pandas as pd, numpy as np, seaborn as sns\n",
    "from sklearn.decomposition import PCA, FastICA, KernelPCA\n",
    "from sentence_transformers import SentenceTransformer\n",
    "import matplotlib.pyplot as plt\n",
    "from sklearn.preprocessing import StandardScaler\n",
    "from sklearn.manifold import TSNE\n",
    "from scipy import stats\n",
    "from math import ceil\n",
    "import time\n",
    "import scipy.stats as stats\n",
    "import numpy as np"
   ]
  },
  {
   "cell_type": "code",
   "execution_count": 725,
   "id": "1a12bd5b",
   "metadata": {},
   "outputs": [
    {
     "data": {
      "application/vnd.jupyter.widget-view+json": {
       "model_id": "13c096ba60d04619aa0cffd2a85ba29b",
       "version_major": 2,
       "version_minor": 0
      },
      "text/plain": [
       "Batches:   0%|          | 0/68 [00:00<?, ?it/s]"
      ]
     },
     "metadata": {},
     "output_type": "display_data"
    }
   ],
   "source": [
    "#read the text file\n",
    "file = open(\"yelp/train.txt\", \"r\", encoding = \"utf8\")\n",
    "file_data = file.read()\n",
    "lines = file_data.splitlines()\n",
    "file.close()\n",
    "\n",
    "data = []\n",
    "\n",
    "#only use senteces that contain the keyword\n",
    "keyword = \"pizza\"\n",
    "for s in lines:\n",
    "    if keyword in s:\n",
    "        data.append(s)\n",
    "\n",
    "#appending a random weird sentence to see if it pops to the top of the sentence rankings        \n",
    "data.append(\"Colorless green ideas sleep furiously .\")\n",
    "#data.append(\"Écriteau lumineux avec écrit pizza Kebab .\")\n",
    "#data.append(\"Have a nice day !\")\n",
    "#data = formatting(data)\n",
    "\n",
    "#generates embedding for the sentences\n",
    "emb = SentenceTransformer('sentence-transformers/paraphrase-MiniLM-L6-v2')\n",
    "#emb = SentenceTransformer('sentence-transformers/all-mpnet-base-v2')\n",
    "embed = emb.encode(data, show_progress_bar = True)"
   ]
  },
  {
   "cell_type": "code",
   "execution_count": 705,
   "id": "619b5e52",
   "metadata": {},
   "outputs": [
    {
     "name": "stdout",
     "output_type": "stream",
     "text": [
      "(2146, 384)\n",
      "Colorless green ideas sleep furiously .\n"
     ]
    }
   ],
   "source": [
    "print(embed.shape)\n",
    "print(data[-1])"
   ]
  },
  {
   "cell_type": "code",
   "execution_count": 706,
   "id": "05216ea5",
   "metadata": {},
   "outputs": [],
   "source": [
    "def dim_reduce_kpca(num_comps, kernel = \"linear\", return_model=False):\n",
    "    kpca_standardized_embed = StandardScaler().fit_transform(embed)\n",
    "    kpca= KernelPCA(n_components=num_comps, kernel=kernel, random_state=2023, eigen_solver=\"arpack\", copy_X=False)\n",
    "    kpca_model = kpca.fit(kpca_standardized_embed)\n",
    "    embed_red_kpca = kpca_model.transform(kpca_standardized_embed)\n",
    "    if return_model:\n",
    "        return [embed_red_kpca, kpca_model]\n",
    "    return embed_red_kpca\n",
    "def dim_reduce_PCA(num_comps, print_data=False, return_model=False):\n",
    "    pca_standardized_embed = StandardScaler().fit_transform(embed) #added because this is used in paper \n",
    "                                                               #(they say that PCA assumes a Gaussian Distribution \n",
    "                                                               #and the features must be normalized)\n",
    "    pca = PCA(n_components=num_comps, random_state = 2023)\n",
    "    model = pca.fit(pca_standardized_embed)\n",
    "    embed_red_pca = model.transform(pca_standardized_embed)\n",
    "    if print_data:\n",
    "        orig = pd.DataFrame(pca_standardized_embed)\n",
    "        reduced = pd.DataFrame(embed_red_pca)\n",
    "        print(\"original: \\n\")\n",
    "        print(orig)\n",
    "        print(\"\\n dimensionally reduced: \\n\")\n",
    "        print(reduced)\n",
    "    if return_model:\n",
    "        return [embed_red_pca, model]\n",
    "    return embed_red_pca\n",
    "\n",
    "\n",
    "def dim_reduce_ICA(num_comps, print_data=False, return_model=False):\n",
    "    ica = FastICA(n_components = num_comps,\n",
    "                  whiten = 'arbitrary-variance',\n",
    "                  max_iter = 300, \n",
    "                  random_state = 2023) #set random state to 2023 to have reproducible results\n",
    "    model = ica.fit(embed)\n",
    "    embed_red_ica = model.transform(embed)\n",
    "    if print_data:\n",
    "        orig = pd.DataFrame(embed)\n",
    "        reduced = pd.DataFrame(embed_red_ica)\n",
    "        print(\"original: \\n\")\n",
    "        print(orig)\n",
    "        print(\"\\n dimensionally reduced: \\n\")\n",
    "        print(reduced)\n",
    "    if return_model:\n",
    "        return [embed_red_ica, model]\n",
    "    return embed_red_ica\n"
   ]
  },
  {
   "cell_type": "code",
   "execution_count": 707,
   "id": "aef18915",
   "metadata": {},
   "outputs": [],
   "source": [
    "#embed_red_kpca_cos, kpca_model_cos = dim_reduce_kpca(num_comps_pca, kernel=\"cosine\", return_model=True)"
   ]
  },
  {
   "cell_type": "code",
   "execution_count": 708,
   "id": "82619a03",
   "metadata": {},
   "outputs": [],
   "source": [
    "def num_bins_Scotts(data):\n",
    "    num_bins = []\n",
    "    for i in range(data.shape[1]):\n",
    "        s = np.std(data[:,i])\n",
    "        bin_width = 3.49 * s * (data.shape[0]**(-1/3))\n",
    "        num_bins.append(ceil((np.max(data[:,i])-np.min(data[:,i]))/bin_width))\n",
    "    return num_bins"
   ]
  },
  {
   "cell_type": "code",
   "execution_count": 709,
   "id": "c4aca944",
   "metadata": {},
   "outputs": [],
   "source": [
    "def num_bins_Freedman_Diaconis(data):\n",
    "    num_bins = []\n",
    "    for i in range(data.shape[1]):\n",
    "        iqr = stats.iqr(data[:,i])\n",
    "        h = 2 * iqr * (len(data[:,i]) ** (-1/3))\n",
    "        num_bins.append(ceil((np.max(data[:,i])-np.min(data[:,i]))/h))\n",
    "    return num_bins"
   ]
  },
  {
   "cell_type": "code",
   "execution_count": 710,
   "id": "7ac58cb4",
   "metadata": {},
   "outputs": [],
   "source": [
    "def histogram(data, bins, frequency = False):\n",
    "    all_hist = []\n",
    "    all_bins = []\n",
    "    for i in range(data.shape[1]):\n",
    "        hist, bin_edges = np.histogram(data[:,i], bins = bins[i], density = not frequency)\n",
    "        all_hist.append(hist)\n",
    "        all_bins.append(bin_edges)\n",
    "    return all_hist, all_bins"
   ]
  },
  {
   "cell_type": "code",
   "execution_count": 711,
   "id": "9f241e34",
   "metadata": {},
   "outputs": [],
   "source": [
    "#hists_kpca_cos, bins_kpca_cos = histogram(data_reduce_kpca_cos, num_bins_Freedman_Diaconis(data_reduce_kpca_cos))"
   ]
  },
  {
   "cell_type": "code",
   "execution_count": 712,
   "id": "3cab8e6a",
   "metadata": {},
   "outputs": [],
   "source": [
    "def find_bin(bins, value):\n",
    "    if value == bins[0]:\n",
    "        return 0\n",
    "    i = 1\n",
    "    while value > bins[i]:\n",
    "        i+=1\n",
    "    return i-1"
   ]
  },
  {
   "cell_type": "code",
   "execution_count": 713,
   "id": "68c60335",
   "metadata": {},
   "outputs": [],
   "source": [
    "def probability(histograms, bins, data):\n",
    "    probs = []\n",
    "    for col in range(data.shape[1]):\n",
    "        col_prob = []\n",
    "        width = np.diff(np.array(bins[col]))[0]\n",
    "        for row in range(data.shape[0]):\n",
    "            idx = find_bin(bins[col], data[row][col])\n",
    "            prob = histograms[col][idx] * width\n",
    "            col_prob.append(prob)\n",
    "        probs.append(col_prob)\n",
    "    return np.array(probs).T"
   ]
  },
  {
   "cell_type": "code",
   "execution_count": 714,
   "id": "692bd415",
   "metadata": {},
   "outputs": [],
   "source": [
    "#probs_kpca_cos = probability(hists_kpca_cos, bins_kpca_cos, data_reduce_kpca_cos)"
   ]
  },
  {
   "cell_type": "code",
   "execution_count": 715,
   "id": "ddba030e",
   "metadata": {},
   "outputs": [],
   "source": [
    "def sentence_surprisals(probs):\n",
    "    surprisals = []\n",
    "    for i in range(probs.shape[0]):\n",
    "        surprisals.append(-1*sum(np.log2(probs[i])))\n",
    "    return np.array(surprisals)"
   ]
  },
  {
   "cell_type": "code",
   "execution_count": 716,
   "id": "f975c12b",
   "metadata": {},
   "outputs": [],
   "source": [
    "#sen_surprisals_kpca_cos = sentence_surprisals(probs_kpca_cos)"
   ]
  },
  {
   "cell_type": "code",
   "execution_count": 70,
   "id": "af3b4b36",
   "metadata": {},
   "outputs": [
    {
     "name": "stderr",
     "output_type": "stream",
     "text": [
      "C:\\Users\\vaj1\\AppData\\Local\\anaconda3\\envs\\surprisal\\Lib\\site-packages\\sklearn\\decomposition\\_fastica.py:123: ConvergenceWarning: FastICA did not converge. Consider increasing tolerance or the maximum number of iterations.\n",
      "  warnings.warn(\n",
      "C:\\Users\\vaj1\\AppData\\Local\\anaconda3\\envs\\surprisal\\Lib\\site-packages\\sklearn\\decomposition\\_fastica.py:123: ConvergenceWarning: FastICA did not converge. Consider increasing tolerance or the maximum number of iterations.\n",
      "  warnings.warn(\n",
      "C:\\Users\\vaj1\\AppData\\Local\\anaconda3\\envs\\surprisal\\Lib\\site-packages\\sklearn\\decomposition\\_fastica.py:123: ConvergenceWarning: FastICA did not converge. Consider increasing tolerance or the maximum number of iterations.\n",
      "  warnings.warn(\n"
     ]
    },
    {
     "ename": "KeyboardInterrupt",
     "evalue": "",
     "output_type": "error",
     "traceback": [
      "\u001b[1;31m---------------------------------------------------------------------------\u001b[0m",
      "\u001b[1;31mKeyboardInterrupt\u001b[0m                         Traceback (most recent call last)",
      "Cell \u001b[1;32mIn[70], line 6\u001b[0m\n\u001b[0;32m      4\u001b[0m embed_red, model \u001b[38;5;241m=\u001b[39m dim_reduce_ICA(i, return_model\u001b[38;5;241m=\u001b[39m\u001b[38;5;28;01mTrue\u001b[39;00m)\n\u001b[0;32m      5\u001b[0m hists, bins \u001b[38;5;241m=\u001b[39m histogram(embed_red, num_bins_Freedman_Diaconis(embed_red))\n\u001b[1;32m----> 6\u001b[0m probs \u001b[38;5;241m=\u001b[39m probability(hists, bins, embed_red)\n\u001b[0;32m      7\u001b[0m sen_surprisals \u001b[38;5;241m=\u001b[39m sentence_surprisals(probs)\n\u001b[0;32m      8\u001b[0m rank_surprisal \u001b[38;5;241m=\u001b[39m np\u001b[38;5;241m.\u001b[39mflip(np\u001b[38;5;241m.\u001b[39margsort(sen_surprisals))\n",
      "Cell \u001b[1;32mIn[64], line 7\u001b[0m, in \u001b[0;36mprobability\u001b[1;34m(histograms, bins, data)\u001b[0m\n\u001b[0;32m      5\u001b[0m width \u001b[38;5;241m=\u001b[39m np\u001b[38;5;241m.\u001b[39mdiff(np\u001b[38;5;241m.\u001b[39marray(bins[col]))[\u001b[38;5;241m0\u001b[39m]\n\u001b[0;32m      6\u001b[0m \u001b[38;5;28;01mfor\u001b[39;00m row \u001b[38;5;129;01min\u001b[39;00m \u001b[38;5;28mrange\u001b[39m(data\u001b[38;5;241m.\u001b[39mshape[\u001b[38;5;241m0\u001b[39m]):\n\u001b[1;32m----> 7\u001b[0m     idx \u001b[38;5;241m=\u001b[39m find_bin(bins[col], data[row][col])\n\u001b[0;32m      8\u001b[0m     prob \u001b[38;5;241m=\u001b[39m histograms[col][idx] \u001b[38;5;241m*\u001b[39m width\n\u001b[0;32m      9\u001b[0m     col_prob\u001b[38;5;241m.\u001b[39mappend(prob)\n",
      "Cell \u001b[1;32mIn[63], line 5\u001b[0m, in \u001b[0;36mfind_bin\u001b[1;34m(bins, value)\u001b[0m\n\u001b[0;32m      3\u001b[0m     \u001b[38;5;28;01mreturn\u001b[39;00m \u001b[38;5;241m0\u001b[39m\n\u001b[0;32m      4\u001b[0m i \u001b[38;5;241m=\u001b[39m \u001b[38;5;241m1\u001b[39m\n\u001b[1;32m----> 5\u001b[0m \u001b[38;5;28;01mwhile\u001b[39;00m value \u001b[38;5;241m>\u001b[39m bins[i]:\n\u001b[0;32m      6\u001b[0m     i\u001b[38;5;241m+\u001b[39m\u001b[38;5;241m=\u001b[39m\u001b[38;5;241m1\u001b[39m\n\u001b[0;32m      7\u001b[0m \u001b[38;5;28;01mreturn\u001b[39;00m i\u001b[38;5;241m-\u001b[39m\u001b[38;5;241m1\u001b[39m\n",
      "\u001b[1;31mKeyboardInterrupt\u001b[0m: "
     ]
    }
   ],
   "source": [
    "start_all = time.time() #Can make this much better for PCA and KPCA\n",
    "weird_sen_rankings = []\n",
    "for i in range(1, 40):\n",
    "    embed_red, model = dim_reduce_ICA(i, return_model=True)\n",
    "    hists, bins = histogram(embed_red, num_bins_Freedman_Diaconis(embed_red))\n",
    "    probs = probability(hists, bins, embed_red)\n",
    "    sen_surprisals = sentence_surprisals(probs)\n",
    "    rank_surprisal = np.flip(np.argsort(sen_surprisals))\n",
    "    #print(i)\n",
    "    for j in rank_surprisal:\n",
    "        if data[j] == \"Colorless green ideas sleep furiously .\":\n",
    "            weird_sen_rankings.append(np.where(rank_surprisal == j)[0][0])\n",
    "            break\n",
    "end_all = time.time()\n",
    "print(end_all-start_all)"
   ]
  },
  {
   "cell_type": "code",
   "execution_count": 17,
   "id": "8a664ffc",
   "metadata": {},
   "outputs": [
    {
     "name": "stdout",
     "output_type": "stream",
     "text": [
      "17.81806707382202\n",
      "                                                       0\n",
      "0                          the food was primarily bleh .\n",
      "1                        sorry posted wrong pic for food\n",
      "2      great food with bojangles , krispy kreme and j...\n",
      "3                                  : - ( but good food .\n",
      "4      but the food is gggggggrrrrreeeeeeeaaaaaaatttt...\n",
      "...                                                  ...\n",
      "10924                                the food was good .\n",
      "10925                                the food was good .\n",
      "10926                                the food was good .\n",
      "10927                                the food was good .\n",
      "10928                                the food was good .\n",
      "\n",
      "[10929 rows x 1 columns]\n",
      "10\n",
      "Colorless green ideas sleep furiously .\n"
     ]
    }
   ],
   "source": [
    "start = time.time()\n",
    "embed_red, model = dim_reduce_kpca(347, kernel = \"cosine\", return_model = True)\n",
    "end = time.time()\n",
    "time_total = print(end-start)\n",
    "hists, bins = histogram(embed_red, num_bins_Freedman_Diaconis(embed_red))\n",
    "probs = probability(hists, bins, embed_red)\n",
    "sen_surprisals = sentence_surprisals(probs)\n",
    "rank_surprisal = np.flip(np.argsort(sen_surprisals))\n",
    "sen_rankings = []\n",
    "for i in rank_surprisal:\n",
    "    sen_rankings.append(data[i])\n",
    "print(pd.DataFrame(sen_rankings))\n",
    "print(np.where(np.array(sen_rankings) == \"Colorless green ideas sleep furiously .\")[0][0])\n",
    "print(sen_rankings[10])"
   ]
  },
  {
   "cell_type": "code",
   "execution_count": 69,
   "id": "bad96e0e",
   "metadata": {},
   "outputs": [
    {
     "name": "stdout",
     "output_type": "stream",
     "text": [
      "[0]\n",
      "0\n",
      "[ 0  1  3  1  2  1  1  2  3  3  6  9  7 11 13 14 14 15 17 22 24 25 28 30\n",
      " 32 34 33 34 34 34 34 35 35 35 35 36 36 37 38]\n"
     ]
    }
   ],
   "source": [
    "weird_sen_rankings = np.array(weird_sen_rankings)\n",
    "print(np.where(weird_sen_rankings == 0)[0]) #for rbf have to look from bottom up?\n",
    "print(np.argmin(weird_sen_rankings))\n",
    "print(weird_sen_rankings)"
   ]
  },
  {
   "cell_type": "code",
   "execution_count": 726,
   "id": "d21e0cc1",
   "metadata": {},
   "outputs": [
    {
     "name": "stdout",
     "output_type": "stream",
     "text": [
      "0.0789179801940918\n"
     ]
    }
   ],
   "source": [
    "start = time.time()\n",
    "embed_red, model = dim_reduce_PCA(75, return_model = True)\n",
    "end = time.time()\n",
    "print(end-start)\n",
    "# print(np.mean(num_bins_Freedman_Diaconis(embed_red)))\n",
    "# print(np.mean(num_bins_Scotts(embed_red)))"
   ]
  },
  {
   "cell_type": "code",
   "execution_count": 727,
   "id": "a19c1e32",
   "metadata": {},
   "outputs": [],
   "source": [
    "hists, bins = histogram(embed_red, num_bins_Scotts(embed_red))\n",
    "probs = probability(hists, bins, embed_red)\n",
    "sen_surprisals = sentence_surprisals(probs)\n",
    "rank_surprisal = np.flip(np.argsort(sen_surprisals))\n",
    "sen_rankings = []\n",
    "for i in rank_surprisal:\n",
    "    sen_rankings.append(data[i])\n",
    "with open(\"PCA_Sentence_Rankings\", 'w') as f:\n",
    "    for i in sen_rankings:\n",
    "        f.write(i + \"\\n\")\n",
    "    f.close()"
   ]
  },
  {
   "cell_type": "code",
   "execution_count": 728,
   "id": "2f718525",
   "metadata": {},
   "outputs": [],
   "source": [
    "pca_tau_ranking = []\n",
    "for i in data:\n",
    "    pca_tau_ranking.append(np.where(np.array(sen_rankings)==i)[0][0])"
   ]
  },
  {
   "cell_type": "code",
   "execution_count": 730,
   "id": "bab08d4d",
   "metadata": {},
   "outputs": [
    {
     "name": "stdout",
     "output_type": "stream",
     "text": [
      "0\n"
     ]
    }
   ],
   "source": [
    "print(np.where(np.array(sen_rankings) == \"Colorless green ideas sleep furiously .\")[0][0])\n",
    "#print(np.where(np.array(sen_rankings) == \"decidi comer uma pizza , j que eu tava com pouco dinheiro .\")[0][0])\n",
    "#print(np.where(np.array(sen_rankings) == \"Écriteau lumineux avec écrit pizza Kebab .\")[0][0])\n",
    "#print(np.where(np.array(sen_rankings) == \"Have a nice day !\")[0][0])"
   ]
  },
  {
   "cell_type": "code",
   "execution_count": 731,
   "id": "5519a50a",
   "metadata": {},
   "outputs": [
    {
     "name": "stdout",
     "output_type": "stream",
     "text": [
      "0.4031641483306885\n"
     ]
    }
   ],
   "source": [
    "start = time.time()\n",
    "embed_red, model = dim_reduce_ICA(75, return_model = True)\n",
    "end = time.time()\n",
    "print(end-start)"
   ]
  },
  {
   "cell_type": "code",
   "execution_count": 734,
   "id": "660c931a",
   "metadata": {},
   "outputs": [],
   "source": [
    "hists, bins = histogram(embed_red, num_bins_Scotts(embed_red))\n",
    "probs = probability(hists, bins, embed_red)\n",
    "sen_surprisals = sentence_surprisals(probs)\n",
    "rank_surprisal = np.flip(np.argsort(sen_surprisals))\n",
    "sen_rankings = []\n",
    "for i in rank_surprisal:\n",
    "    sen_rankings.append(data[i])\n",
    "with open(\"ICA_Sentence Rankings\", 'w') as f:\n",
    "    for i in sen_rankings:\n",
    "        f.write(i + \"\\n\")\n",
    "    f.close()"
   ]
  },
  {
   "cell_type": "code",
   "execution_count": 735,
   "id": "4fa885de",
   "metadata": {},
   "outputs": [],
   "source": [
    "ica_tau_ranking = []\n",
    "for i in data:\n",
    "    ica_tau_ranking.append(np.where(np.array(sen_rankings)==i)[0][0])"
   ]
  },
  {
   "cell_type": "code",
   "execution_count": 736,
   "id": "8defdd5f",
   "metadata": {},
   "outputs": [
    {
     "name": "stdout",
     "output_type": "stream",
     "text": [
      "0.544957682516551 0.0\n"
     ]
    }
   ],
   "source": [
    "tau, p_value = stats.kendalltau(pca_tau_ranking, ica_tau_ranking)\n",
    "print(tau, p_value)"
   ]
  },
  {
   "cell_type": "code",
   "execution_count": 737,
   "id": "16711754",
   "metadata": {},
   "outputs": [
    {
     "name": "stdout",
     "output_type": "stream",
     "text": [
      "0\n"
     ]
    }
   ],
   "source": [
    "print(np.where(np.array(sen_rankings) == \"Colorless green ideas sleep furiously .\")[0][0])\n",
    "#print(np.where(np.array(sen_rankings) == \"decidi comer uma pizza , j que eu tava com pouco dinheiro .\")[0][0])\n",
    "#print(np.where(np.array(sen_rankings) == \"Écriteau lumineux avec écrit pizza Kebab .\")[0][0])\n",
    "#print(np.where(np.array(sen_rankings) == \"Have a nice day !\")[0][0])"
   ]
  },
  {
   "cell_type": "code",
   "execution_count": 738,
   "id": "136995ff",
   "metadata": {},
   "outputs": [
    {
     "name": "stdout",
     "output_type": "stream",
     "text": [
      "0.2610464096069336\n"
     ]
    }
   ],
   "source": [
    "start = time.time()\n",
    "embed_red, model = dim_reduce_kpca(75, kernel=\"poly\", return_model = True)\n",
    "end = time.time()\n",
    "print(end-start)"
   ]
  },
  {
   "cell_type": "code",
   "execution_count": 739,
   "id": "a3f7a23d",
   "metadata": {},
   "outputs": [],
   "source": [
    "hists, bins = histogram(embed_red, num_bins_Scotts(embed_red))\n",
    "probs = probability(hists, bins, embed_red)\n",
    "sen_surprisals = sentence_surprisals(probs)\n",
    "rank_surprisal = np.flip(np.argsort(sen_surprisals))\n",
    "sen_rankings = []\n",
    "for i in rank_surprisal:\n",
    "    sen_rankings.append(data[i])\n",
    "with open(\"Polynomial KPCA Sentence Rankings\", 'w') as f:\n",
    "    for i in sen_rankings:\n",
    "        f.write(i + \"\\n\")\n",
    "    f.close()"
   ]
  },
  {
   "cell_type": "code",
   "execution_count": 740,
   "id": "e8eb4abc",
   "metadata": {},
   "outputs": [],
   "source": [
    "poly_tau_ranking = []\n",
    "for i in data:\n",
    "    poly_tau_ranking.append(np.where(np.array(sen_rankings)==i)[0][0])"
   ]
  },
  {
   "cell_type": "code",
   "execution_count": 741,
   "id": "5cf2d902",
   "metadata": {},
   "outputs": [
    {
     "name": "stdout",
     "output_type": "stream",
     "text": [
      "1\n"
     ]
    }
   ],
   "source": [
    "print(np.where(np.array(sen_rankings) == \"Colorless green ideas sleep furiously .\")[0][0])\n",
    "#print(np.where(np.array(sen_rankings) == \"decidi comer uma pizza , j que eu tava com pouco dinheiro .\")[0][0])\n",
    "#print(np.where(np.array(sen_rankings) == \"Écriteau lumineux avec écrit pizza Kebab .\")[0][0])\n",
    "#print(np.where(np.array(sen_rankings) == \"Have a nice day !\")[0][0])"
   ]
  },
  {
   "cell_type": "code",
   "execution_count": 742,
   "id": "c99c9a3a",
   "metadata": {},
   "outputs": [
    {
     "name": "stdout",
     "output_type": "stream",
     "text": [
      "0.6154716143297657 0.0\n"
     ]
    }
   ],
   "source": [
    "tau, p_value = stats.kendalltau(pca_tau_ranking, poly_tau_ranking)\n",
    "print(tau, p_value)"
   ]
  },
  {
   "cell_type": "code",
   "execution_count": 686,
   "id": "d83f512b",
   "metadata": {},
   "outputs": [
    {
     "name": "stdout",
     "output_type": "stream",
     "text": [
      "0.005132198333740234\n"
     ]
    }
   ],
   "source": [
    "start = time.time()\n",
    "embed_red, model = dim_reduce_kpca(8, kernel=\"rbf\", return_model = True)\n",
    "end = time.time()\n",
    "print(end-start)"
   ]
  },
  {
   "cell_type": "code",
   "execution_count": 687,
   "id": "34b5a9b1",
   "metadata": {},
   "outputs": [],
   "source": [
    "hists, bins = histogram(embed_red, num_bins_Freedman_Diaconis(embed_red))\n",
    "probs = probability(hists, bins, embed_red)\n",
    "sen_surprisals = sentence_surprisals(probs)\n",
    "rank_surprisal = np.argsort(sen_surprisals)\n",
    "sen_rankings = []\n",
    "for i in rank_surprisal:\n",
    "    sen_rankings.append(data[i])\n",
    "with open(\"Gaussian RBF KPCA Sentence Rankings\", 'w') as f:\n",
    "    for i in sen_rankings:\n",
    "        f.write(i + \"\\n\")\n",
    "    f.close()"
   ]
  },
  {
   "cell_type": "code",
   "execution_count": 688,
   "id": "79a3aeb3",
   "metadata": {},
   "outputs": [],
   "source": [
    "#print(sen_rankings)\n",
    "rbf_tau_ranking = []\n",
    "for i in data:\n",
    "    rbf_tau_ranking.append(np.where(np.array(sen_rankings)==i)[0][0])"
   ]
  },
  {
   "cell_type": "code",
   "execution_count": 690,
   "id": "10fd89cf",
   "metadata": {},
   "outputs": [
    {
     "name": "stdout",
     "output_type": "stream",
     "text": [
      "35\n",
      "26\n"
     ]
    }
   ],
   "source": [
    "print(np.where(np.array(sen_rankings) == \"Colorless green ideas sleep furiously .\")[0][0])\n",
    "#print(np.where(np.array(sen_rankings) == \"decidi comer uma pizza , j que eu tava com pouco dinheiro .\")[0][0])\n",
    "#print(np.where(np.array(sen_rankings) == \"Écriteau lumineux avec écrit pizza Kebab .\")[0][0])\n",
    "print(np.where(np.array(sen_rankings) == \"Have a nice day !\")[0][0])"
   ]
  },
  {
   "cell_type": "code",
   "execution_count": 691,
   "id": "e6974c41",
   "metadata": {},
   "outputs": [
    {
     "name": "stdout",
     "output_type": "stream",
     "text": [
      "-0.2682926829268293 0.013472587734971984\n"
     ]
    }
   ],
   "source": [
    "tau, p_value = stats.kendalltau(pca_tau_ranking, rbf_tau_ranking)\n",
    "print(tau, p_value)"
   ]
  },
  {
   "cell_type": "code",
   "execution_count": 692,
   "id": "16e4fbff",
   "metadata": {},
   "outputs": [
    {
     "name": "stdout",
     "output_type": "stream",
     "text": [
      "0.0039980411529541016\n"
     ]
    }
   ],
   "source": [
    "start = time.time()\n",
    "embed_red, model = dim_reduce_kpca(8, kernel=\"sigmoid\", return_model = True)\n",
    "end = time.time()\n",
    "print(end-start)"
   ]
  },
  {
   "cell_type": "code",
   "execution_count": 693,
   "id": "2c2f14fe",
   "metadata": {},
   "outputs": [],
   "source": [
    "hists, bins = histogram(embed_red, num_bins_Freedman_Diaconis(embed_red))\n",
    "probs = probability(hists, bins, embed_red)\n",
    "sen_surprisals = sentence_surprisals(probs)\n",
    "rank_surprisal = np.flip(np.argsort(sen_surprisals))\n",
    "sen_rankings = []\n",
    "for i in rank_surprisal:\n",
    "    sen_rankings.append(data[i])\n",
    "with open(\"Sigmoid KPCA Sentence Rankings\", 'w') as f:\n",
    "    for i in sen_rankings:\n",
    "        f.write(i + \"\\n\")\n",
    "    f.close()"
   ]
  },
  {
   "cell_type": "code",
   "execution_count": 694,
   "id": "aa962afa",
   "metadata": {},
   "outputs": [],
   "source": [
    "sig_tau_ranking = []\n",
    "for i in data:\n",
    "    sig_tau_ranking.append(np.where(np.array(sen_rankings)==i)[0][0])"
   ]
  },
  {
   "cell_type": "code",
   "execution_count": 695,
   "id": "5af1a531",
   "metadata": {},
   "outputs": [
    {
     "name": "stdout",
     "output_type": "stream",
     "text": [
      "5\n",
      "6\n"
     ]
    }
   ],
   "source": [
    "print(np.where(np.array(sen_rankings) == \"Colorless green ideas sleep furiously .\")[0][0])\n",
    "#print(np.where(np.array(sen_rankings) == \"decidi comer uma pizza , j que eu tava com pouco dinheiro .\")[0][0])\n",
    "#print(np.where(np.array(sen_rankings) == \"Écriteau lumineux avec écrit pizza Kebab .\")[0][0])\n",
    "print(np.where(np.array(sen_rankings) == \"Have a nice day !\")[0][0])"
   ]
  },
  {
   "cell_type": "code",
   "execution_count": 696,
   "id": "54d42f28",
   "metadata": {},
   "outputs": [
    {
     "name": "stdout",
     "output_type": "stream",
     "text": [
      "0.3024390243902439 0.0053441835203513555\n"
     ]
    }
   ],
   "source": [
    "tau, p_value = stats.kendalltau(pca_tau_ranking, sig_tau_ranking)\n",
    "print(tau, p_value)"
   ]
  },
  {
   "cell_type": "code",
   "execution_count": 697,
   "id": "0afe154f",
   "metadata": {},
   "outputs": [
    {
     "name": "stdout",
     "output_type": "stream",
     "text": [
      "0.003999233245849609\n"
     ]
    }
   ],
   "source": [
    "start = time.time()\n",
    "embed_red, model = dim_reduce_kpca(8, kernel=\"cosine\", return_model = True)\n",
    "end = time.time()\n",
    "print(end-start)"
   ]
  },
  {
   "cell_type": "code",
   "execution_count": 698,
   "id": "eaa68835",
   "metadata": {},
   "outputs": [],
   "source": [
    "hists, bins = histogram(embed_red, num_bins_Freedman_Diaconis(embed_red))\n",
    "probs = probability(hists, bins, embed_red)\n",
    "sen_surprisals = sentence_surprisals(probs)\n",
    "rank_surprisal = np.flip(np.argsort(sen_surprisals))\n",
    "sen_rankings = []\n",
    "for i in rank_surprisal:\n",
    "    sen_rankings.append(data[i])\n",
    "with open(\"Cosine KPCA Sentence Rankings\", 'w') as f:\n",
    "    for i in sen_rankings:\n",
    "        f.write(i + \"\\n\")\n",
    "    f.close()"
   ]
  },
  {
   "cell_type": "code",
   "execution_count": 699,
   "id": "726c5a51",
   "metadata": {},
   "outputs": [],
   "source": [
    "cos_tau_ranking = []\n",
    "for i in data:\n",
    "    cos_tau_ranking.append(np.where(np.array(sen_rankings)==i)[0][0])"
   ]
  },
  {
   "cell_type": "code",
   "execution_count": 700,
   "id": "7bb24479",
   "metadata": {},
   "outputs": [
    {
     "name": "stdout",
     "output_type": "stream",
     "text": [
      "18\n",
      "21\n"
     ]
    }
   ],
   "source": [
    "print(np.where(np.array(sen_rankings) == \"Colorless green ideas sleep furiously .\")[0][0])\n",
    "#print(np.where(np.array(sen_rankings) == \"decidi comer uma pizza , j que eu tava com pouco dinheiro .\")[0][0])\n",
    "#print(np.where(np.array(sen_rankings) == \"Écriteau lumineux avec écrit pizza Kebab .\")[0][0])\n",
    "print(np.where(np.array(sen_rankings) == \"Have a nice day !\")[0][0])"
   ]
  },
  {
   "cell_type": "code",
   "execution_count": 525,
   "id": "0cb9e956",
   "metadata": {},
   "outputs": [
    {
     "name": "stdout",
     "output_type": "stream",
     "text": [
      "0.41243737596624896 1.671373235731683e-180\n"
     ]
    }
   ],
   "source": [
    "tau, p_value = stats.kendalltau(pca_tau_ranking, cos_tau_ranking)\n",
    "print(tau, p_value)"
   ]
  },
  {
   "cell_type": "code",
   "execution_count": 456,
   "id": "5ac0a482",
   "metadata": {},
   "outputs": [
    {
     "name": "stdout",
     "output_type": "stream",
     "text": [
      "['we decided to split a pizza .', 'twin a had ordered a special salad to go with his pizza .', \"but fiori 's is pizza made in heaven .\", 'we started with the white pizza and boy did it hit the spot .', \"nick 's is standard pizza .\", 'one of the best slices of pizza in charlotte .', 'i split the bbq pizza with a friend and we enjoyed it .', 'just a good straight forward mom and pop pizza pie .', 'the other half got the prosciutto and arugula pizza .', 'call me weird , but i love canned mushroom on my pizza .', \"oh those pepperoni rolls are better than mancini 's pizza rolls .\", \"just had my first pizza from fiori 's .\", 'my husband loves china sea , whereas i would rather order pizza : )', 'had this pizza been cooked , i feel like it would be subpar .', 'the pizza slices are as long as a newborn baby .', \"tony 's is the best real ny pizza in charlotte , period .\", 'sausage pizza was very good from brother .', 'pizza bagels are a must !', 'first , the medium pizza is huge .', 'hands down one of the best sicilian pizzas around !', '1- these guys are the best pizza i have found so far .', 'my son got the kids pizza .', 'my kids devour the pizza .', 'had the doc margherita pizza .', 'first of all , this is some of the best pizza in the burgh .', 'it is a true mom and pop pizza dive .', 'the pizza is the best in charlotte imho .', 'my pizza came quickly and was good ... .notice good , not the greatest .', 'a delicious close cousin to nyc pizza .', \"fiori 's delivers some tasty pizza .\", 'best pizza around , hands down !', 'we got two pizzas .', 'glutard friendly for both beer and pizza .', \"it does n't look , smell or taste like pizza ! !\", 'my favorite pizza in the city ... the crust and sauce are sweet .', \"if you 've never had fiori 's pizza , try it .\", 'my daughter ordered a pizza that was a warmed up frozen pizza .', 'the pizza is cooked hot and fresh .', 'i have friends that love the white pizza .', 'the pizza is tastier than most delivery places .', 'mussels are very good and so is the flat bread pizza .', 'when you are there order the ephesus pizza .', 'the pizza was hot fresh and hand tossed .', 'the calzone and stromboli dough is like the pizza dough .', 'plus , our pizza was ready in ten minutes so score .', 'better than pizza sola .', 'you want pizza ?', 'my son is a college kid , so he wanted pizza .', 'got home and everything was perfect , crazy half pizza toppings on both .', 'my pizza still had onions in it .', 'twin a ordered a pizza .', 'fresh cut fries , pizza puffs .', 'we got a medium and large pizza with pepperoni .', 'hands down the best ny pizza in charlotte !', 'get the white pizza with bacon .', 'bronx bomber pizza', 'get a whole pizza pie and call it a night at the games .', \"i 've found a new lover , and his name in il pizzaiolo ...\", 'hands down best pizza around .', 'i hear the deepdish pizza is deeeeelish !', 'best pizza in charlotte ! ! ! !', 'excellent pizza - although the mushrooms were from a can .', 'best white pizza i ever had .', 'the 2nd choice was a personal deep dish pizza .', 'my family decided to split a traditional pizza with pepperoni and mushroom .', 'had their pizza last night for my sons sleepover .', 'pizza , fries and hoagies all good here .', 'true , northern style pizza in the charlotte area ! ! !', 'there pizzas are meant to be personalized sized , but they are pretty big !', \"pizza perfecta was the spot i 'd read about .\", '- our friends got the classic white pizza .', 'the mexican pizza was okay .', \"bottom line , i totally recommend getting fiori 's pizza .\", 'best pizza in charlotte , brooklyn south is a close second .', \"i guess their pizza taste great if you 're drunk .\", 'hubby loves pizza so we made a stop .', 'the answer is brixx wood fired pizza !', 'they also have pre made pizza dough .', 'dominoes did a really nice job revamping their pizza .', 'pizza by the slice are very large .', 'still the same pizza that you will either love or hate .', \"it was n't all that long ago that pizza was unique .\", 'what type of pizza could possibly take over two hours ?', 'it should be its own genre of pizza .', 'i had a four cheese pizza with sweet sausage and garlic .', 'i love mushroom pizza .', 'the only one that rivals the taste is pizza sola .', 'try the bacon pizza ..', 'their margherita doc pizza is bellisimo !', 'my old school pepperoni and mushroom pizza was great .', \"looking for good pizza in the 'burgh ?\", 'i got the margarita pizza which was great except i could use more basil .', \"fiori 's is the best pizza i 've ever eaten .\", 'pizza parma has many of the characteristics i like in a pizza joint .', 'we ordered wedding soup ( pretty delicious ) and portobello mushroom pizza .', 'the bouncer from fuel pizza !', 'how hard is it to make good pizza ?', 'they also have delicious pizza and fries .', 'she also split a small mushroom pizza with my dad which was above average .', 'hoagies are also pretty good but the pizza takes the spotlight .', 'overall the pizza here is a slam dunk .', 'their pizza is always hot & fresh .', \"fiori 's pizza is amazing !\", 'i really love deep dish pizza .', 'the pizza was good except for the canned mushrooms .', 'the pizza also included mushrooms and onions .', 'ordered two personal size pizzas , spicy fries , fried zucchini & onion rings .', 'great pizza but damn , the beer selection is off the chain .', 'the sum of its parts is still a delicious close cousin to nyc pizza .', 'this is the pizza i cut my first tooth on as a kid .', 'we ordered a pepperoni and sausage pizza for take out .', 'stick to the bar food like pizza and beer .', 'can pizza taste any better down here ?', \"fiori 's has the best pizza on earth , hands down .\", 'their pepperoni pizza roll is a must !', \"grew up on fiori 's pizza and hoagies !\", 'our pizza arrived steaming hot and smelling wonderful .', 'my kids ordered pizza which was just ok .', 'we had a couple different pizzas .', 'what is the pizza belt ?', 'it is the best white pizza i have ever had .', 'juliana pizza has the best gourmet pizza in charlotte !', 'a small personal pizza , wedding soup and their *crab* bisque .', 'she just went right back to working on making the pizza !', \"go to veltre 's pizza .\", 'the closest pizza i have found to back home is due amichis .', \"luckily , fiori 's still makes old school pizza that tastes great .\", 'its fast food pizza not a lot of expectations .', 'this was a pretty standard cheese pizza .', \"yay , i 'm a fan of the white pizza .\", 'second would be the pizza because it was interesting and delicious .', 'tried a slice ifu daughters pizza , very good !', 'i love white pizzas too .', 'the seafood pizza came out shortly after and it smelled heavenly .', \"bado 's pizza is one of the best pizzas i 've ever had !\", \"their pizza reminds me of the old godfather 's style pizza .\", 'if you have not tried this pizza , trust me try it .', 'i am from chicago and very picky about pizza .', 'last time i was there someone said the pizzas looked good .', 'margherita pizza --', \"best pizza in the 'burg !\", 'fair amount of cheese & pepperoni on the entire pizza .', \"i 'd definitely return to brixx pizza .\", 'brought home a calzone , pizza , and garlic knots .', 'why i crave pizzaiolo ?', 'we then split the fried zucchini and the recovery room pizza .', 'stopped in tonight and got a large pizza with peppeoni and sausage .', 'this is the place to get a great slice of sicilian pizza .', 'i thought the seafood pizza was really good as were the mussels .', \"casey 's breakfast pizza was my katrina .\", \"i 'm a huge pizza snob , and fuel really holds up well .\", 'even my kids will eat sushi over a piece of pizza .', 'highly recommend to anyone if you are craving some pizza and wings !', 'ditto on the pizza heading .', 'would i get this pizza again ?', 'bruschetta and seafood pizza for me , calamari and seafood stew for my colleague .', 'same pizza you had before .', 'fuel pizza is good but definitely not the best in charlotte .', \"fortunately , beto 's pizza tastes better .\", \"you 're better off buying a frozen pizza and cooking it your self .\", \"as darren claims , bellisario 's pizza is a shinning knight . ''\", \"fiori 's pizza is so good !\", 'this is some of the best pizza in the burgh !', 'best pizza in charlotte .', \"the front counter is the kitchen , so you 'll leave smelling like pizza .\", 'try thin crust pizza with bacon sometime - great with some beers !', 'it would be awesome if they offered walk in pizza slices for lunch .', 'we just had a white pizza w tomatoes ... it was exceptional .', 'large take out pepperoni pizza filled a delicious hole on a really cold night !', 'would recommend the sicilian pizza over the usual style .', 'the pizza is always piping hot and made well .', 'primo pizza .', 'veggie pizza was fresh and yummy .', 'i recommend eating at juliana pizza to all !', '- hawaiian : pizza with pineapples & prosciutto', \"thank you buck 's for the bag pizza .\", 'my hubby asked me if i got an extra large pizza lol .', 'a friendly fun atmosphere with great great great neapolitan pizza .', 'delicious and the pizza was bubbly hot and fresh out of the oven .', 'i got a pepperoni and sausage pizza .', \"anna 's pizza is to die for .\", 'beautiful night on the patio enjoying a crab pesto pizza .', 'the moroccan spiced chicken and dry plum pizza is an exotic treat !', 'pear and gorgonzola pizza - this is so good .', 'i got a personal pizza , and my friend got an italian hoagie .', 'i think i can tell if a pizza is raw or not .', 'talk about a large pizza pie .', 'we just ordered pizza and cheese bread .', 'jerk chicken pizza', 'its just whatever pizza anyway .', 'thoroughly unremarkable pizza but good beer selection earns brixx an extra star .', 'just what you expect from pizza hut - no suck .', 'stay at home and fix a chefboyardee pizza .', 'it was like pizza soup in a crust bowl .', 'pizza in a bag !', 'the best pizza in the burgh !', 'but goldberg looking fellow that brought out pizza and desserts was hauling ass .', 'most people havent tried their pasta which is remarkable good for a pizza joint .', 'four stars for the pizza !', 'i ordered a bacon pizza and breaded mushrooms .', 'the pizzas are wood fired and made to order so they are always fresh !', '_num_ lunch- pepperoni pizza', 'great mozzarella , tomatoe , basil pizza !', 'the salad bar also came with fresh pizza .', \"have n't had the pizza but they look great .\", 'my husband had pizza .', 'we decided to order two pizzas .', 'i went with my favorite pizza combination , mushroom & onion .', 'way better than pizza hut .', 'it only took about five minutes for my pizza to be ready .', 'the eggs were eggs : good without any pizzazz .', 'and that i would gladly pay for the non gf pizza .', \"certified pizza but they 've taken all the steps to make it happen .\", 'never a bad slice of pizza there .', \"i got `` joe 's '' pizza .\", 'pizza is floppy , greasy , salty , and delicious .', \"splitting one _num_ '' pizza is enough for two people .\", 'uno chicago grill chicago classic deep dish pizza', 'pizza italia is one of the best pizza joints around .', 'the best pizza crust hands down !', 'it reminded me of a nice store-bought frozen pizza .', 'juliana pizza is family owned , operated , and cherished but a wonderful family .', 'i had their onion rings and regular crust pizza .', 'pizza sola ( penn circle branch )', 'pizza sola ( penn circle branch )', \"it 's not a complete weekend for me without a stop at pizza perfectta .\", 'try the wood-fired pizza !', 'gotsta order the bbq chicken pizza .', 'the bread they serve is their pizza dough , which was quite nice !', 'they serve good pizza and the queso dip was delicious .', \"even frozen digiorno 's pizzas .\", 'hungry howies drew me in with cheap pizza deals .', 'that went a long way for me with the pizza .', 'brick oven pizza is very good and so are the salads .', 'try the mexican pizza !', 'perfect thin crust pepperoni pizza !', 'stifled my pizza fix but i found the sauce a little too sweet .', 'i order the double cheese ( provolone ) pizza .', \"otherwise it 's pizza hut , tastes the same , same quality .\", 'the pizza was as close to nyc pizza as possible !', 'the cheese is a little thicker than the average new york style pizza place .', 'yes , the pizza can be a bit greasy .', 'the white pizza is that star though .', 'the oven was way too hot for this type of pizza .', 'my only complaint is that the pizza was served luke warm .', \"bado 's is a quintessential pittsburgh pizza stop .\", 'just grading the pizza and service here .', 'best pizza in the burgh !', 'random pizza toppings on lettuce ) this time around .', 'pizza-hut can burn in hell !', 'workers were really nice and the pizza was great !', 'pizza perfecta', 'the chef slings a pizza out of the oven into an italy colored box .', 'il pizzaiolo has a great , rustic atmosphere .', \"i 'm a pizza minimalist .\", 'i had a pizza while watching two baseball games and the golf tournament .', 'there is nothing worse than a pizza that is pulled too soon .', 'therefore -- three stars , with the pizza saving the review from total damnation .', 'if you want high-end pizza then go somewhere else .', 'this is a unique pizza experience like no other .', 'but their pizza portions are huge !', \"village pizza really is italian food at it 's best !\", 'with one exception , my pizza and break sticks get here in perfect condition .', 'i call it raw cheese pizza .', 'bucks is hands down the most delectable addictive amazingly priced pizza anywhere ! !', \"bravo , tony 's pizza !\", \"fiori 's is consistently the best pizza in town !\", 'then , my brother got the prosciutto and arugula pizza .', \"fiori 's is the best pizza in the south hills .\", \"do you know why buck 's is the best pizza in madison ?\", \"as for the pizza , i 'll definitely be back for more .\", 'definitely our new favorite pizza joint in munhall !', 'what with the cold cheese on top of hot pizza ?', 'i would order this pizza again !', \"honestly it 's the closest i 've had to real italian pizza outside italy .\", \"buck 's is our go-to pizza place in madison .\", \"its the type of pizza that 's even better cold the next day !\", \"first time having the kipp 's special personal pizza ... .delish !\", 'well we got to pizza , and it was cold .', \"to me , it 's just your average , run of the mill pizza .\", 'pizza hut ?', 'the menu is outstanding but the pizza and beer is too expensive .', 'il pizzaiolo means the pizza maker , in italian .', \"i would take beto 's pizza over oregon pizza any day .\", 'spinach feta and mediterranean pizzas have amazing crusts !', 'the pizza ... the pizza ... the pizza ... .', 'everything from krispy kreme donuts to frozen lemonade to hot fresh pizza .', 'yes the pizza is the best in the burgh .', '2nd bedt pizza ever !', \"brixx will have many different types of thin crust pizza 's .\", 'quality pizza and hoagies , buffalo chicken pizza and hoagie are both really good .', \"if that 's a problem , find another pizza joint !\", 'pizza perfectta', 'get a square pizza and a family of four can eat for days !', 'thinking about il pizzaiolo makes my mouth water ... i can wait to return !', 'cold cheese and cold pepperoni on my pizza ?', 'frozen pizza is better than their pizza .', \"we also ordered the `` incredible white pizza '' which was incredibly cold .\", \"there is a large turnover of pizza so it 's always hot .\", 'i ordered the white pizza and it was amazing !', \"nick 's has legit new york style pizza .\", \"if you 're into that , then this pizza will exceed your expectations .\", 'ordered a ham and cheese pizza for delivery .', 'delivery is always on time and pizza is hot ! ! !', 'quality pizza crust , hellava lot better than il fornio and better price !', 'half off burgers and pizza', 'charlotte really needs a place like this and the closest attempt is brixx pizza .', \"so we chose kamikaze 's , pepperoni pizza and calamari .\", \"i 've had the white pizza with basil and it was pretty good .\", 'my pizza was just finishing up in the oven when i got there .', 'i ordered the margherita pizza and it was mainly sauce .', 'this previous weekend my boss bought us lunch from pizza perfecta .', 'we ordered a margarita pizza which was freaking delicious .', 'all it would have take n was a new pizza and wings .', \"even my husband loved it and he 's not a big pizza fan !\", 'i would definitely order this pizza again .', 'can vouch for any pizza , italian hoagie , jalapeo poppers and fried mushrooms .', 'we shared the 4x4 pizza that has four cheese and four meats .', 'most cheap pizza in pittsburgh tastes like cardboard and everyone seems to like it .', 'the white pizza truly is delicious , as are all of their fatty appetizers .', 'got a personal pizza with gorgonzola , chicken sausage , and red onions .', 'ordered the traditional deep dish pizza , but with no onions .', 'the same plain pizza we order never seems to taste the same .', 'will definitely be our go-to pizza joint !', 'very no fuss pizza , and absolutely delicious .', \"no it 's not pizza , a tuscan style pie maybe .\", 'another bene to having the pizza on premise , the cold sprinkled cheese .', 'wood fired pizzas too !', 'the pizza was hot and fresh and served relatively quickly .', 'i love pizza company pizza and hoagies !', 'congratulatory pizza delivery for moving my friend in from california !', 'slow service and average pizza .', \"it 's just pizza .\", \"this is the best pizza in mckee 's rocks .\", 'mexican pizza', 'wonderful bake-it yourself pizza .', 'and you can buy a bag of fresh pizza dough for a dollar .', 'lebanon ) has some pretty extraordinary food selections and spectacular brick-oven pizza .', 'just absoultely great pizza .', 'this pizza hut is not a top choice , but ok in a pinch .', 'for the money i expect that the toppings will be cooked on the pizza .', 'i would write anthems , poems , novels about their pizza .', 'the best pizza i have had in the area and the slices are huge !', 'however , i love brixx pizza .', 'one of the best pizza places in the north hills .', \"if you 're looking for a unique pizza experience , definitely try beto 's .\", 'we had wood oven pizza with fresh mushrooms and italian sausage .', 'fuel pizza is usually decent .', 'i love the pepperoni pizza they make here nowhere else makes a better pie .', 'even better , pizza parma has a parking lot !', 'cookie pizza ?', 'overall though they were two very solid pizzas that i enjoyed .', 'ordered a thin crust pizza with extra cheese , pepperoni and mushrooms .', 'if you want cheap pizza go to pizza hut .', 'pizza italia is a wonderful small business ( and i love small buz ! )', 'be greasy and awful and ridiculous , pizza hut .', 'the kids pizza was fine .', \"it 's quick & not cheap pizza .\", 'thanks , pizza perfectta .', \"i ca n't stand canned mushrooms on my pizza .\", 'usually get the bacon cheddar dog which is awesome but tried the pizza tonight .', 'it does help a lot that you can half pizza toppings to appease everyone .', \"i 'd bet the pizza salad is much better .\", 'a different style ( love or hate ) pizza .', \"you 'll getta pizza .\", 'the bbq chicken pizza will delight anyone that has an inner 5yr old .', \"it reminded me of a stouffer 's french bread pizza .\", 'i bear the friendly people of pizza parma no ill will .', 'i tried the prosciutto pizza which was a perfectly baked , authentic neapolitan pizza .', 'the rest of the pizza was fine , average per usual .', 'something about cold cheese going on hot pizza that melts slightly makes it delicious .', 'these guys definitely know how to make a good pizza .', 'recommend for a dive pizza meal .', 'this is one of the few decent pizza places in uptown charlotte .', 'pizza i has always been a staple in our household .', 'four slices of pepperoni pizza and an orange crush .', 'ordered my pizza tonight via website .', 'finally , tried their pizza .', 'tuscany bread , four cheese pizza and spinoccoli pizza ) .', 'soup and pizza .', 'pizza from fioris pizzaria', 'the white pizza is a must !', 'the pizza always comes warm and ready to eat .', 'best all-meat pizza in the area .', 'it had overpriced pizza , bathrooms , and seats .', 'review on the pizza sounds great too ... ..looking forward to trying it .', 'the mahrgarita ( sp ) pizza with pepperoni and mushrooms was wonderful !', 'i got a slice of cheese pizza and onion rings .', \"the ultimate quest for the `` best pizza '' is a tricky thing .\", 'so , yes , you will eat your pizza with uncooked cheese on it .', \"super sloppy and there 's far better pizza elsewhere .\", 'food-wise , the pizza and wings are delicious !', 'they bake the tray of pizza with a handful or two of cheese .', 'we were told by the manager that they would give us a free pizza .', \"try the white pizza , you wo n't be disappointed .\", \"i 've had much better wood-fired pizza elsewhere .\", 'the pizza came out and i was a fan of the sweet tomato sauce .', 'our table also enjoyed the pepperoni pizza and black and blue grilled chicken sandwich .', 'by all means , dine at il pizzaiolo .', 'if you like plain pizza stay away from the pide .', '* a redbull can on the pizza dressing table .', \"i would n't pick it for a pizza spot but definetly for a hoagie spot\", 'we had the bacon cheeseburger and the pizza special of the day=chicken ranch .', 'this is an anti-planet fitness ( there are no pizza days ) .', 'really good pizza , tried the cheeseburger pizza .', 'i had their thin crust pepperoni pizza which really hit the spot .', 'pizza hut fucking owns !', 'more importantly , the pizza is always hot and prompt !', 'there was a lot , a lot , of cheese on the pizza .', 'everything was quick , and the pizza was good .', 'got the buffet pizza was good they also give you free soup to .', 'the pizza is good but the hoagies are even better .', 'not a big deal , especially considering how tasty the pizza was !', 'get the hoagie , pass on the pizza .', 'a real craving-type pizza with an acquired taste .', 'no pizza is worth the experience we had here .', 'average pittsburgh pizza and fried stuff pile , nothing special though .', 'delicious pizza delivery !', 'we really like village pizza .', 'dirty floor , cardboard pizza .', 'delivery took almost two hours and pizza was cold .', 'top notch pizza !', 'i think pizza parma shines with their specialty pizzas .', 'friends kids loved the pizza and fruit cup .', 'a friend from napoli recommended il pizzaiolo .', 'my favorite pizza is the shadyside special .', 'definitely worth a stop if you are doing a pizza tour of pittsburgh .', 'the old man makes the pizzas .', 'their pizzas are square/rectangle !', 'pizza is over-rated', 'my stepfather-in-law gave me sage advice about finding good pizza .', 'i ordered the nine grain farmers market individual deep dish pizza .', 'was served freezing cold enchiladas and pizza .', 'i would highly recommend their buffet , especially the buffalo chicken pizza .', 'i finally had a chance to try brixx pizza !', \"it 's basically the only chicago style pizza in the burgh .\", 'crust tasted like frozen pizza crust .', 'frozen pizza doe .', 'just tried their pizza dough and had total success due to the quality .', '- garden pizza', 'everything is freshly made , especially the pizzas .', 'the best pasta vodka and margherita pizza in the universe !', 'yummy pizza varieties , especially the chicken bacon ranch .', 'i just like the combo of hot wing sauce with sweet pizza sauce .', 'my fave pizza near the burgh .', \"the pizza 's , subs , spaghetti and fries are great !\", 'the pizza now is just ok .', \"it 's a pizza hut .\", 'their salads are pretty nice but their pizza- yum !', 'deep dish pizza was good .', 'just get the pizza .', 'when order came , plain cheese pizza .', \"it 's chain pizza , so you know what you 're getting into .\", \"he told me `` this is how this pizza is '' .\", 'this pizza would be great even if it was just a plain cheese pizza .', 'staff was upbeat and nice , pizza buffet was sparse and pizza looked old .', 'like other people have said when you want pizza you get pizza .', 'easily the most delicious pizza in the shadyside area .', 'thanks pizza parma !', \"i ca n't explain how thrilled i was to find il pizzaiolo .\", 'two of the larger pizzas looked like personal pizzas to me .', 'i want to come back and get that spanich fetta looking pizza !', 'however , the lunch pizza buffet left alot to desire .', 'save money go buy a frozen pizza and it will be better than this place', 'new york pizza just like when i lived in queens ! ! !', 'dark wood , tan walls , delicious pizza smells .', 'for the garlic knots , pizza , and mashed potatoes .', 'the pizza literally looked like digorno or some other frozen supermarket option .', 'i went there because the isthmus annual manual said it had great wood-oven pizzas .', 'the pizza here is different from your traditional place .', 'at pizzaiolo how to make the pizza .', 'i love village pizza .', \"this is one of the most unique pizza joints i 've ever eaten at .\", 'any pizza is really good and their rueben is very tasty .', \"pizza that while eating makes you feel like you 're in another country .\", 'the pizza is decently priced and they always have something cold to drink .', 'this is greasy cheesy pizza exactly what i like .', 'will definitely be making this my pizza and beer go to .', 'the pizza is very good and the beer selection is great .', 'some discounts are really worth ... had the large veg topping pizza ... awesome', 'you can get the best pizza dough at penn mac for $ _num_ .', 'flat bread pizza was very good .', 'we were served their huge pepperoni pizza which was very tasty !', 'we get their take out cheese pizza .', 'try the sausage pizza which is unlike any that you have had .', \"wow , the pizza truly the best i 've had in the burgh ' .\", \"i will be back again and ca n't wait to try the sicilian pizza .\", 'their white pizza is also very good .', 'pizza and mexican .', 'for my entree , i had the meat trio pizza .', \"that 's essentially beto 's pizza , only about _num_ times better obviously .\", 'last but certainly not least , their pizza tastes wonderful !', \"casey 's pizza tastes so much like godfather 's it 's unreal .\", 'this is the best ny style pizza in the charlotte region .', 'get a side of pasta sauce for the pizza', 'yummy yummy pizza ! ! !', 'while others walked out with their pizzas loaded .', 'got a pizza with pepperoni and a slice of cheesecake .', 'it did not take long and the pizza and wings came out .', \"my sister and i used to love going to anthony 's pizza .\", 'the regular thin crust pizza was loaded with toppings .', 'i called for a delivery of a pepperoni pizza , large .', 'i had the grilled portobello mushroom salad and the _num_ cut margherita pizza .', 'we split the chicken sandwich and the pesto pizza , both were great !', 'i had the southwest chicken salad , others had the manhattan pizza .', 'the husband had the bbq chicken pizza .', 'i recommend the classic pizza and wings .', 'the cheese on this pizza is so generous that extra is never needed .', 'would order again only if it was for pizza alone .', 'the pizza is also pretty good , brick oven and thin crust .', 'pizza pit the best pizza for the price .', \"it 's mostly personal size woodfired pizzas which can be altered .\", \"mineo 's is the best of what i would call a traditional pizza .\", \"i stopped by graziano 's last night for some pizza with a friend .\", 'the pizza is in my top _num_ .', 'for our dinner we decided to get a large pizza with chicken on it .', 'the brick fired pizza is pretty good .', 'one of their pizzas has a garlic sauce that we also like .', 'i recommend the bbq chicken pizza .', 'after a night of imbibing , we required pizza for breakfast .', 'my sweetie loves loves lovesss pizza & we order from here a ton .', 'my sweetie loves loves lovesss pizza & we order from here a ton .', \"pasquarelli 's pizza house jumped off of the page as the place to try .\", \"more pizza selections and sizes would n't hurt would they ?\", 'my slice of pizza came and it looked so yummy .', 'just moved in the area and discovered on of the best pizzas in charlotte .', 'the pizza was a good size .', 'we then split a pizza and pasta dish .', 'love rosatti pizza .', 'nothing fancy , just focusing on the pizza !', 'the pizza is delicious , but a little pricy .', 'my first half cooked pizza !', 'bonus point for microwave to heat up my chicago pizza .', 'i should have stayed home and made pizza myself .', 'the legacy of a superior pizza in dormont has lost it .', 'the large pizza is huge bigger than the box and tasty .', 'another chicago fav is the pizza puff .', \"did i say i ca n't stand canned mushrooms on my pizza .\", 'i want my pizza piping hot , almost burning the roof of my mouth !', '_num_ minutes for take out pizza when their busy', \"add-in that this is north carolina and i 'm a pizza snob from chicago .\", 'if you have never had square pizza i recommend you get some right now .', 'jerk chicken pizza was excellent .', 'our pizza was cold and our drinks where empty .', 'delivered the pizza to our hotel within an hour .', 'overall - just ok pizza .', 'they use some oil which smell different that killed the taste of my pizza .', 'second-degree burns notwithstanding , the pizza was tasty !', \"my husband 's philly pizza was amazingly good !\", \"never tried the pizza or buffet , so ca n't comment on those .\", 'not in the mood for pizza ?', 'my pizza really hit the spot .', 'my favorites are the supreme pizza and the breakfast pizza .', 'we rushed home energetically made our pizza !', 'we ordered a pepperoni pizza .', \"the pizza 's disappeared fast .\", 'i love n.y. style pizza .', 'i love n.y. style pizza .', 'growing up in latrobe i had become accustomed to mediocre , chain pizza .', 'pizza is better than average and topping taste fresh .', \"we had chicken pizza , and it 's good .\", 'eaten here twicebut only pizza .', 'you just have to try this pizza .', 'you can feel free to order pizza .', 'the italian bread pizza appetizer is delicious .', 'the margarita pizza is the best !', \"mineo 's is by far my favorite pizza ever ! !\", 'it takes a legitimately terrible pizza for me to actually throw the thing away .', 'i love the pepperoni pizza .', 'taste like frozen pizza .', 'i finish two twelve inch pizza bread in less then a day !', 'to put it frankly , campitis is the place to get pizza and hoagies .', 'overall : the pizza is good , atmosphere is easy !', 'pizza was mediocre btw', 'new york style pizza and subs are my two favorite things !', 'probably one of the best places to eat pasta or wood-fired pizza ...', 'this is absolutely the best pizza in deforest .', 'when the pizza arrived and i opened the lid , i had to gasp .', 'went here for lunch with my son and had pizza buffet .', 'i loved the huge stone pizza oven', \"bado 's easily ranks in my top _num_ favorite pizza places in pittsburgh .\", 'the pizza , the calamari , the pasta .', \"closest thing to new york pizza that i 've had in years !\", \"i 've dreamed of their pizza since i was a child .\", 'pizza with balsamic vinegar and prosciutto was excellent .', \"it 's a novelty , and for some folks it 's their favorite pizza .\", 'i got the special - large pizza & a dozen wings .', 'there were no napkins and too much grease on the pizza .', \"as for the pizza i ca n't stop raving .\", 'way to stand out from the mediocre pizza that plagues pittsburgh .', \"tiny little ordinary looking beto 's somehow manages to be an interesting pizza place .\", 'the kids love their pizza and they typically have some really good specials .', \"being from chicago , i 'm a pizza snob .\", 'i checked out the menu and they had a list of different pizzas .', 'wise guys is your typical off beat pizza shop .', 'we got the shroom pizza .', 'thanks ny pizza express !', 'this pizza is as unique as it gets .', 'had their deluxe pizza and lasagne dinner for carry out .', \"hands down the best pizza i 've ever had .\", \"so i 'm having some pizzaiolo margherita doc in about _num_ hours .\", 'got a couple of slices of pizza from ephesus today for lunch .', 'the non-pizza items are also pretty good , especially the wings .', 'wood fired pizzas have become a dime a dozen these days .', 'we had heard from family that this was really good pizza place .', 'http : //www.foodiebytes.com/menu/nc/huntersville/tonys-pizza.html', \"as a recent chicago transplant , i 've really been missing chicago pizza .\", 'i love fuel as a post-1am drunken pizza spot .', 'good beer selection and awesome pizza .', \"the pizza is why we order from rosatti 's .\", 'for my main meal i ordered the margherita doc pizza based on the reviews .', 'as pizza chains go , this one was on par .', 'sauce is also good , nothing crazy , just good ole pizza sauce .', 'every employee that works at this pizza hut needs to be fired .', 'i was hoping for a more loaded pizza .', \"the pizza pit inside has a small arcade and decent 'za .\", 'toss salad is good with the pizza and the calzones are great too ! !', 'no frills ( no seating ) , just fast , good , tasty pizza .', 'the bread sticks were fresh and hot , and the pizzas were great too !', 'well i havent had pizza from pizza perfectta in quite some time .', 'the flatbread pizza most likely came out of the box .', \"i think we 've found our new pizza place !\", 'i had the greek pizza with vegan cheese , and it was absolutly amazing .', 'the regular pizza is alright .', 'the pizza , overall , had a sweet undertone .', 'their roman style pizza is to die for !', 'grab a seat , and proceed to make sweet love to this pizza !', 'average pizza .', 'the clam chowder is good , their seafood pizza is awesome .', 'very good pizza , but the italian dishes are frozen .', \"there 's no place like anna 's pizza .\", \"love love love mineo 's pizza !\", 'i had the personal size chicago pizza .', \"fiori 's has the best pizza in pittsburgh in my opinion .\", 'the pizza was greasy and good .', 'i had the deep dish pizza and it was very good !', 'will i drive twenty minutes to get this pizza again ?', 'pretty good sandwiches , and thin crust pizza .', 'no frills , dive spot pizza .', 'better pizza ?', 'pizza parma fails on wings , though .', 'female manager on duty asked for $ _num_ in exchange for a pizza .', 'delicious , up scale pizza .', 'the pizza is terrific ny style thin crust and very large pies .', 'if you want terrible pizza go here .', ') , and any of the pizzas .', \"my wife 's cheese pizza was like wet cardboard .\", 'the pizza and hoagies here are absolutely on point .', 'i recommend the cin-ds pizza sub red sauce !', 'while the pizza was large , the taste was quite average .', 'absolutely love their spicy shrimp topping pizza and occasionally try the bbq chicken pizza .', 'i got _num_ pizzas from here .', 'i craved this pizza when i was living in ital', 'the buffalo chicken pizza was amazing .', 'it is exactly the same pie as the margherita doc at pizzaiolo .', 'i see yummy pizza in our future .', 'so how did the pizza taste ?', 'feh , i would resign from eating pizza till i had my precious .', 'the pizza is the best in the area , by far .', 'this was our second time eating the pizza from here .', 'it was my first time getting a pizza from there in a long time .', 'i just saw that they are now serving chicago-style deep dish pizza !', \"it 's a very dense pizza .\", 'we even got someone elses pizza .', 'really yum vegetarian pizza !', 'it will always be my standard measure for greatness in pizza .', 'we picked up the pizza at exactly fifteen minutes .', 'not every place is serving gourmet custom flash fired pizza .', 'the hoagies are far better than the pizza ... but not by much .', 'walk across the street and eat at fuel for some real pizza .', \"well i have had oven roasted pizza 's in nyc and in sf .\", 'a few minutes later we were on our way with my slice of pizza .', \"i love beto 's pizza !\", \"their over loading of the cheese did n't stop at the pizza .\", 'i am from chicago so i take pizza very seriously .', 'good pizza the smoked mozzarella', 'the new fiesta pizza is also really good .', 'the pizza was amazing and our pizza skin app was too .', \"nick 's pizza is bomb .\", 'the menu had all the usual pub grub , and they also make pizzas .', 'pizza was decent and the spinach artichoke dip was pretty awesome .', 'best pizza in the burgh .', 'best pizza in the burgh .', 'received a phone call the following day asking about their service and pizza .', 'just not a fan of onions on my pizza .', 'moroccan spiced chicken and dry plum pizza ( soo good )', 'my favorite item from the menu is their pizza .', 'pizza is square cut and the corners are the best .', 'the pizza crust tasted like pizza hut .', 'you get what you expect- delicious pizza !', 'the pizza is sold by the square slice .', 'for a more grown up taste ; ) try the pizzas or pimento cheese !', 'thank you , village pizza !', 'the pizza and wings were very good .', 'the pizza is top notch .', 'please visit spartan pizza soon .', 'loved the pizza , pasta buffet .', 'the pizza is always hot and delivered quickly .', 'i love il pizzaiolo and will definitely be back !', 'i love il pizzaiolo and will definitely be back !', 'i had the sicilian pizza , with prosciutto and some other salty tastiness .', 'best pizza in the city , hands down .', 'if you like good milwaukee/racine style pizza you need to eat here .', 'sorry , but our pizza was cold .', \"first , i 'm picky when it comes to pizza .\", \"the best ny style pizza i 've had in nc !\", 'rude service , and pizza was subpar .', 'veltres is amazing - great pizza , great service , fast delivery .', 'when we tasted the pizza , it was ...', 'i like the pizza size options .', 'our pizza was yummy & we tried the pepperoni roll for $ _num_ .', 'the pizza is only mediocre .', 'i popped in to pizza parma for a slice of pie .', 'the ingredients are so fresh and the pizza is so yummy !', 'this pizza is mediocre at best .', '**forgot to mention that our pizza had onions on it .', 'ordered a veggie pizza .', 'best pizza in the western hemisphere !', 'i should also note that the plates for eating pizza are plastic .', 'we decided on uno because pizza sounded good to us .', \"it 's pizza hut .\", \"i would n't eat this pizza if it was free .\", \"okay , for realz now : angelo 's white pizza is ridiculously delicious .\", 'cool atmosphere , good draft selection and tasty , creative pizza .', 'i had some pizza from pizza parma today during a lunch meeting at work .', \"definitely , have to visit tony 's pizza .\", 'best pizza in shadyside .', 'in the mood for pizza and salad so decided to try ephesus pizza .', 'ordered pizza and wings from here with delivery .', 'my husband i split the fried zucchini and white pizza with chicken .', 'the pizza is a _num_ stars max .', 'i will probably always eat this pizza whenever i come .', 'i love love love their hawaiian pizza .', 'pizza perfectta is fast , delicious , and a great value .', 'try the pizza buffet , too .', 'next i perused the pizza menu and choose the bronx bomber for $ _num_ .', \"i 'd rather tip well than to pay over priced pizza .\", 'happened to have tong garden because it was close by , and not pizza !', \"do n't waste your time not the pizza though\", \"fiori 's ... simply the best pizza in pittsburg !\", \"do n't think i 'll be back to that pizza hut .\", 'we ordered the spinach pizza with white sauce and an italian calzone .', 'great pizza and subs .', 'ordered pizza and baked ziti and both were on point .', \"i 'll definitely order pizza from here again .\", \"fiori 's is one pizza shop that we go out of our way for .\", 'i was really looking forward to a nice pizza !', 'hand tossed crusts with a nice selection of specialty pizzas .', \"their cheese pizza is a must have if you 're visiting pittsburgh .\", 'best traditional pizza in sun praire !', 'was going to try the buffalo pizza .', 'great pizza , and the calzones are huge .', 'which in my opinion totally makes or breaks a pizza .', 'betos pizza is down the street !', 'and the lady i ordered my pizza through was very friendly and upbeat .', \"vento 's italian army hoagies , , and amazing pizza .\", 'we draws us there is the pizza and beer .', 'the most delicious pizza and the best cocktails in the area ! !', 'if you like sicilian pizza , this is the place .', 'we had the burger and the margarita pizza .', 'the pizza is great , and wings are pretty good too .', \"i have been eating beto 's pizza since i was a little girl .\", 'to the side the third clerk assisted with the pizza order .', 'their pizza bagels are my absolute favorite , and they bring back memories .', 'as late as it was , there was no offer to comp the pizza .', 'these so-called pizzas are labor intensive and not worth the effort .', 'the kids personal pizza was about _num_ inches and filling .', 'a couple years ago i had heard they smoke over making their pizza .', 'we ordered the full size chopped salad , a pizza , and a calzone .', 'the pizza is made from a brick oven so it came out super fast .', 'the pizza was okay but it was definitely nothing special on my second visit .', 'we ordered a pizza and a few apps which were so good .', 'that buffalo chicken pizza was awesome .', 'karmic pizza .', 'i payed $ _num_ for a large cheese pizza .', 'i like the sausage pizza here as well .', 'this also causes a secondary issue of the pizza being extremely messy to eat .', 'but otherwise , i would highly recommend il pizzaiolo .', 'in general pizza was ok .', 'then our friends told us that we had to try the cookie pizza .', 'it was just a step up , maybe two , from frozen pizza .', 'sadly , this is the only pizza hut near me .', 'the owner was nice enough about refunding the money for the pizza .', \"buck 's pizza is my all-time favorite thin crust pizza ever .\", \"you have to try vento 's italian army hoagies , , and amazing pizza ...\", 'my friend always has the pizza and says it is really good .', 'for lunch they have a pizza/small salad combo .', 'hamburgers , fried and grilled chicken sandwiches and small size pizzas .', 'we ordered their supreme pizza ( parma pizza ) .', \"if you order here please do n't stop at pizza !\", 'a couple cuts of cheese pizza will fill you up .', 'we ordered an 8-cut ( medium ) pizza with anchovies .', \"we 've ordered way too many pizzas that arrive lukewarm !\", 'but i absolutely love the pizza and the whipped balsamic dressing .', 'i also think their new pizza recipe is pretty good .', \"reminds me of a friday 's , only with pizza .\", \"i 'd definitely come back for the pizza !\", 'there is no better pizza in the world .', 'honestly , it was about up to a frozen pizza standard .', 'bathrooms are down a set of stairs in the pizza joint .', 'i immediately called pizza parma which gladly delivered to me .', 'its not pizza , its fiores .', 'i was at a friends house and we decided to order a pizza .', \"i 've been getting pizza here since _num_ and it 's the best .\", \"if your from my generation than you can remember ellio 's rectangular frozen pizza .\", 'i appreciated that they put the pizza in the paper bags .', 'given the price -- i especially enjoyed the generous topping of pizza cheese .', 'typically i order the buffalo chicken pizza or the bronx bomber .', 'pretty authentic ny style pizza although a little bit on the pricey side .', \"mineo 's used to be our go to pizza shop .\", 'villa is the best pizza in pittsburgh !', 'just get in , buy your great pizza , and go enjoy it !', 'pizza is pretty consistently .', 'warm , right out of the oven , fresh cookie pizza .', \"i called over to angelo 's and the pizza was ordered .\", 'i recommend the cheese pizza .', 'ordered online with pizza hut at 9:39pm , was routed to this store .', 'bar food : pizza or ball park pretzels .', 'is sad because the pizza is great but the service is horrible !', 'there are better pizzas around madison but we enjoyed our slices .', 'his answer was to order pizza .', 'if your looking for a good pizza place try milanos .', 'there are far too many better pizza places to indulge in .', 'pizza parma however , makes great cheeseless pizza .', \"i usually get a cheese pizza , but it 's so good .\", 'we are lucky enough to live within walking distance to il pizzaiolo .', 'pizza good fresh and hot .', 'you order the pizza with whatever toppings you so desire .', 'decent pizza and hoagies , tomato bisque soup is a+ , good service .', 'hot , crispy squares of pizza with mounds of cold cheese on top .', 'my family gets this pizza every time we are in town !', 'this is one of the better pizza places around here .', 'i had a big slice of pepperoni pizza and had no problems with it .', 'what happened to the legacy don campitis pizza ?', 'all in all i get the flat bread pizzas and really enjoy them', \"there 's nothing appallingly wrong with the pizza co. pizza .\", 'the veggie pizza and cinnamon rolls r the best !', 'i ordered a medium veggie pizza with a side of fries .', \"in the end , you really ca n't go wrong with pizza italia .\", 'really enjoyed the spinach and feta pizza and the fettucine w/ meatballs .', 'awesome beehive oven pizza , and love the courtyard .', 'i ordered from pizza parma out of storm necessity .', 'the chicken parm sandwich was great , served on might-be-pizza-dough bread .', 'try their pizza , excellent .', \"ordered a few different style pizza 's and some wings .\", 'had some pizza ( was ok ) and hit another place .', 'love the pizza and they have the best vodka sauce .', \"the menu has everything from hummus to homemade pizza and it 's all delicious .\", 'so , we let the pizza sit there .', 'very good pizza and lasagna .', \"seriously my favorite pizza in the 'burgh !\", 'one of my pittsburgh favorites as far as pizza goes .', 'my favorite thing on the menu is the margherita pizza .', \"i thought the pizza was `` eh . ''\", 'our dinner was pizza .', 'we stopped and had a pizza and italian hoagie .', \"my pizza craving does n't discriminate ... .\", 'my favorites are the pizza , chicago style hot dogs and cheese fries !', 'we ordered a large pizza here to go one night and were not disappointed .', 'quick , good pizza , and always a pleaser .', 'well they have other items like pizza and salads .', 'this place is alright but they really should cook the pizzas thoroughly .', 'good pizza is finally back just wish they were open sundays .', 'it is the best turkish pizza in us .', 'food wise , their wings are decent and the pizza is greasy and cheesy .', 'pro : spicy bloody marys , decent pizza , cute waiter , wide beer selection', 'and the rest of the bites until the pizza was done were equally happy .', \"oven was n't working so no pizzas available .\", 'i thought from the good reviews that the pizza would taste okay .', 'pizzas were great and affordable ... will def order again .', 'decent pizza and calzones .', 'all around delicious pizza , hoagie , apps place .', 'we ordered wings , bbq chicken pizza ( no onions ) and garlic knots .', 'we used to really like their lasagna and pizza .', 'the atmosphere and the pizza are as good as it gets .', 'decent neighborhood pizza can be found in morningside at eddies pizza haus .', 'service was great , pizza was a little dry but overall a good experience .', 'i am torn on this late night pizza joint .', 'i would probably come back to try their pizza again .', 'as a rule pitt pizza also has a slightly sweeter tomato sauce .', 'as a rule pitt pizza also has a slightly sweeter tomato sauce .', 'ooey gooey pizza pie ,', 'we had better pizza at my high school back in michigan .', 'the pizzas here , too , are winners .', \"yes , i 've had the pizza .\", 'i got the the margarita pizza which was pretty good .', 'pretty ok pizza dudes .', 'but otherwise , the food and service at il pizzaiolo is severely lacking .', 'big slices , and all around great pizza .', 'light and crispy like the pizza crust should of been .', 'prices were close enough , and i knew the pizza would be better .', \"honestly , it tastes like geno 's frozen pizza from the grocery store .\", 'pretty good pizza , awesome wings and okay prices .', 'the wings and pizza are far superior to those in most sports bars .', 'open kitchen was the first place in north carolina to serve pizza .', 'the pizza i tried in pitt in my order of favorites :', 'the pizza i tried in pitt in my order of favorites :', 'pizzas are amazing , as are the pretzels .', 'we got some cheese sticks to start and then split a small pizza .', 'my companion had the chicken and artichoke pizza which she enjoyed .', 'how exactly does a pizza joint *run out* of pizza ? ! ? !', 'just extra confirmation that its good pizza !', 'it was literally a few cold pizzas layed out on a little table .', 'highly recommend the pizzas , chicken parmesan and lasagna .', 'my pizza was prepared as requested .', \"there is no pizza in pittsburgh that comes close to fiori 's .\", 'i had the greek salad and my sister had pizza both good choices here .', \"( pizzahut breadsticks ) ( they 're so good ! )\", 'not being in the mood for fish , i ordered the white pizza .', 'my sister and i stopped in over the weekend for some pizza .', 'my friend laughed at me for eating pizza with a fork and knife .', 'the pizza is what you would expect ... marginal at best .', 'how do you mess up a slice of cheese pizza .', 'the sicilian style pizza is the bomb !', 'cheese sticks were under cooked , the pizza was extremely greasy .', 'pizza is totally rad .', 'i really like their pizza and their greek salads .', 'easy _num_ stars to the pizza itself , _num_ stars overall .', 'food was delicious -- try the pizza and steak and mini desserts !', '$ _num_ and we both left and ate pizza .', 'ordered 10-15 min later and the pizza came out just after the app arrived .', 'we ordered _num_ cheeselss pizzas ; a lot of places mess this up .', 'that pizza is/was miles better than this .', 'however , my favorite part of the pizza is the sauce .', \"and you know the best thing about ordering pizza , do n't you ?\", 'a lot of people like one type of pizza .', 'i ordered a pizza and an italian sausage hoagie .', 'i had the chicken florentine pizza .', 'good pizza even if the place is beginning to look a little dated .', 'the crust on the second pizza was still rubbery .', 'first visit : we ordered a pizza from the menu on the wall .', \"minutello 's still has some of the best pizza in town .\", 'we ordered the bucatini americano and a pizza .', \"instead , they give yiu a `` pizza knife '' .\", 'this is a _num_ star pizza place period .', 'i was given a slice of pizza with cold sauce .', \"their regular pepperoni pizza is also the best i 've had in pittsburgh .\", 'the pizza dough has a great unique flavor to it that i love .', 'just thorough delivery of solid pizza .', 'last time we ordered the chicago style pizza and loved it .', 'i thought the pizza was a novelty .', 'they make a thin crust gluten free pizza which taste great .', 'i was raised form new york and a very particular taste for pizza .', 'one of my favorite pizza places in the charlotte area !', \"the pizza was square-sliced and looked good , but we did n't have any .\", 'average pizza at best and sub-par appetizers .', 'i enjoy their pizza and their daily hummus offering .', \"if you have n't tired their pizza you should it wo n't disappoint .\", 'it was just so gross id rather have just ordered pizza .', 'il pizzaiolo serves authentic and delicious pizza and pasta .', 'hands down the most slept on pizza shop in pittsburgh .', 'from pizza to salmon , great food !', \"it 's not 5-star , it 's pizza .\", 'pizza came warm not even hot steam from opening the box nothing .', \"it is a pizza and it is ok ... .but it 's not great .\", 'Écriteau lumineux avec écrit pizza Kebab .', 'the pizza is super greasy but it really is some of the best .', 'pizza really good , owner makes incredible homemade desserts , friendly staff .', \"i would n't go out of my way for a slice of pizza here .\", 'they no longer cut your pizza for you .', 'their pizza is so delicious the other half often does not make it home .', 'i ordered the wood roasted vegetable pizza and it was quite yummy .', 'their pizza is ok .', 'a ton of cold shredded cheese thrown on top of pizza ?', \"it should n't take more than an hour to make and deliver a pizza .\", 'pizza flavored popcorn ! )', 'the offer pizza by the slice but only cheese and pepperoni .', 'it is a white pizza with minimal ingredients except for the lamb skewers .', 'this is the kind of pizza that you need to eat with a spoon .', 'update - went back another time and the pizza was mediocre at best .', \"i 've been eating campiti 's pizza most of my life .\", 'ordered a lg pizza for pick up , 30-40 min wait .', \"bellisario 's is one of my fave pizza shops .\", 'pizza , wings , gyro , fries , and nuggets for the kids .', 'the first pizza i ordered from ephesus was really great .', 'they have really good pizza for really cheap .', 'the pizza was cut all messed up as well .', 'i judge a pizza joint by their cheese pizza and their pepperoni .', 'pierogi , pork and sauerkraut , hoagies , pizza , and stuffed cabbage rolls .', \"the mama k 's pizza and lasagna parmigiana are my staples .\", 'pizzas were hot and fresh and the place was immaculately clean .', 'they sell pizza by the slice over the lunch hour ( maybe all day ?', 'super fast service ny style crust pizza was great and crispy .', \"when i 'm in the burgh there is no other pizza choice !\", 'the pizza and toppings are delicious and are fresh cooked .', 'the pizza was hot and really good .', 'also , they make the best pizza in town hands down .', 'the buffalo chicken pizza here is fantastic , and very unique .', 'at least for me , a pizza lover stranded in pittsburgh .', 'our pizza was burnt .', \"the pizza places around that neck of the woods ca n't be beat .\", \"we came here for pizza ( darren ca n't get enough ! )\", 'chicago pizza , i would absolutly try again .', \"i did n't know i liked thin crust pizza until i tried anna 's !\", 'a pizza that has to be eaten quickly to be enjoyed .', 'you may want to consider having the pizza delivered .', 'however , much better tasting pizza in many places near by .', 'decidi comer uma pizza , j que eu tava com pouco dinheiro .', 'the pizza sauce was a bit tart for me .', 'still kick butt pizza but get rid of the cheese hoagie .', 'all in all i was very pleased with my pizza parma experience .', 'pizza is a staple for me .', 'i love eating pizza hut over dominos any day , but not anymore .', \"i 'm not optimistic this pizza ever shows up .\", 'incredible and best pizza , hoagies and food anywhere .', 'some of the best pizza we have had since moving to the area .', 'so , yeah , thankfully there are plenty of other pizza places near by .', 'conclusion : novelty pizza + pinball = try this if you are in pittsburgh', 'the cold _num_ hour old pizza has since plagued my mind .', 'enjoyed our pizza and will be back .', 'sushi , pitas , pizzas , steak .', 'pizza is excellent and rivals any pizza only place in pittsburgh .', 'nothing fancy , just simply delicious pizza .', 'the huge thin crust supreme pizza we had was delicious !', 'pizza hut , a pizza of last resort .', 'the pizza crust is cooked with sauce .', \"best pizza i 've found in madison .\", 'this is totally my go to drunk pizza of choice .', 'he handed me the pizza and mumbled the price .', \"the atmopshere is very `` dive-y pizza joint-y . ''\", 'pizza is burnt on 1side not done on other .', 'another item that did not stand out , the pizza .', 'this being said , it is difficult to impress me with pizza .', \"if you want good , authentic pizza go to a place like luigi 's .\", 'like deep dish pizza in chicago or bagels in new york .', 'pizza with pepperoni , hamburger , and romano', 'it made the pizza too heavy to pick up and extra greasy .', \"'and this is dicarlo 's pizza , right ? '\", 'we are from out of town and heard this place had good pizza .', \"have n't tried the pizza yet ...\", \"if it was about the pizza you were n't getting it back .\", 'now for the food ... their pizza is so yummy !', 'the pizza was nice and hot , but was mediocre in taste .', 'i had two items : a caesar salad , and a margherita pizza .', 'kids can get a pasta or pizza meal for $ _num_ .', 'great pizza , subs and pasta dishes your mamma should have made !', 'best pizza and wings in the queen city !', \"the wild mushroom and arugula pizza was `` missing '' something .\", \"it is , in this new yorker 's opinion , a major pizza fail .\", 'the pizza , even when plain , is very greasy .', \"luigi 's pizza is amazing !\", 'some of the best italian and pizza in the city .', 'i loved the pizza both times and wanted to know where it was from .', \"great wings and the buffalo chicken pizza is the best i 've had .\", 'the pizza is good - they seem to make it fresh .', 'this was a good place to get pizza .', \"the pizza ai n't bad either !\", 'we just ordered a box and finish the pizza at home .', 'i wanted pizza but there was nowhere particular i wanted to go .', 'the place was as clean as you would expect from a pizza shop .', 'love the wings , love the buffo shrimp and love the pizza !', 'the pizza is a little over priced .', 'thankfully a menu was available and capri pizza was just across the street .', 'thanks for a great pizza friday !', 'one of the best pizza places in the south hills .', 'basic little pizza joint that seems to do a good amount of business .', 'very thin pizza for someone who has never had it .', 'i always get pizza from here .', \"i 've heard good things about the pizza , but have n't tried it .\", 'latina pizza is very different from most pizza shops .', 'their largest pizza is still pretty small .', 'i love pizza .', 'my favorite pizza in the city .', 'the pizza is actually pretty delicious , but the other food is not remarkable .', 'this was my first time here and i really enjoyed their pizza .', 'we had no thin crust , real new york style pizza place .', \"i 'll come again and try pizza .\", 'pizza time !', 'the pizzas were just warm and overall pizzahut pizzas lost their taste .', 'if i am paying $ _num_ for a pizza , i expect fresh ingredients .', 'this is not authnetic italian pizza .', 'we were told the pizza and salad bar were shut down at 8pm .', 'tasty food , good pizza and reasonable prices for a non-chain small business .', 'but , man is that pizza great .', 'sadly , the pizza was sparsely topped with cheese and sausage .', \"try walking in to order your pizza -- it 's an education .\", 'their pizza sauce is very very good .', 'the pizza was pretty decent but the wings were just so-so .', 'their pizza sauce really is what it says , the best in town .', 'normally , that means no pizza .', \"i 'm from nyc so i know good pizza .\", 'it us the closest to new york style pizza in these parts .', 'pizza was good , the pasta dish was ok. beer not draft//why ? ? ?', 'nice , clean intimate italian & pizza restaurant !', 'great pizza and their cheese steaks are awesome as well .', 'that means , they load your pizza .', 'my night was ruined thanks to this pizza hut .', 'everything was really good , especially the buffalo chicken pizza .', \"reminded me of a bad cici 's style pizza .\", \"if you like this pizza try osso 's in washington pa .\", 'i got a small pizza to go .', 'hoagies , salads , pizza , calzone .', 'try the pizza rolls !', \"and that 's my pizza theory .\", 'i got pizza here on a saturday night in a pinch .', 'been eating the pizza here for years !', 'looking for a fantastic pizza served fast and for relative cheap ?', 'they have a very different taste than the pizza .', 'my boyfriend got the perogie pizza and said it was phenomenal .', \"pepperoni pizza with extra cheese ( _num_ '' - _num_ cut )\", 'by far my favorite pizza place in the east end .', 'the pizza was a hit and all but a few slices were finished .', 'i wish there was somewhere half as good as village pizza here in chicago .', 'cut up homeade meatballs on pizza !', 'what i am saying is , we order a lot of pizza .', 'well , pizza is subjective .', 'tried a slice of pizza .', 'never ordering from pizza hut again .', '_num_ star only because i like pizza .', '_num_ of the pizzas were delicious , heaped with toppings , really good !', \"_num_ tries and still ca n't get a simple pizza order right !\", 'they are better then little ceasers and now pizza hut !', 'the pizza is a nice depth as well and the toppings are yummy .', 'they are a pizza and hoagie shop .', 'juliana pizza is where the charlotte crocheters meet .', 'i have gotten the small spinach white pizza twice now .', 'if your in the mood for pizza check this place out !', \"it 's the pizza that has won my heart .\", 'i ordered online and arrived a few moments before the pizza was ready .', 'forget what you know about pizza .', \"it 's a workingclass style of pizza in a workingclass neighborhood .\", 'not a bready as the normal pizza so a plus in my eyes .', \"my new fave pizza joint in this area ( outside of fiori 's )\", 'the pizza was really greasy , and the bacon was minimal .', \"it is n't that you do n't make great pizza .\", \"it is by far the best pizza we 've ever had !\", 'when i arrived the party had ordered some pizzas .', \"this was one of first pizza places that i 've tried inpittsburgh .\", 'there were only a few people and one partial pizza available in the buffet .', \"their pizza 's are huge , but not particularly tasty .\", 'we bought a pizza stone and even asked the manager ?', 'the kids each ordered a pizza and they said it was awesome .', 'they put more toppings on pizza than any other place that i know .', 'so this is the old style pizza hut .', \") , but it 's a pretty good pizza , with fresh-tasting ingredients .\", 'i love the lasagna , stuffed rigatoni , and the gourmet pizza !', 'the pizza and rice balls are my food of choice .', 'just stick to the pizza .', 'it was spicy , but the pineapple on the pizza counteracted it .', 'we got _num_ large pizzas .', 'the two favorites at the table were the mediterranean salad and the pizza .', 'try the pizza rolls , buffalo chicken rolls , or wings .', '( doc pizza is always our go to ) .', \"as i mentioned it does n't look or taste quite like a traditional pizza .\", 'i just opted for some overpriced and overcooked pizza .', 'the hoagies are ginormous and the pizza is some of the best in town .', \"ca n't stop thinking about that jewish pizza ...\", 'large plain cheese pizza is my favorite here .', 'it is , honest-to-god , my favorite pizza place .', 'the better option for pizza delivery in the north side .', 'i will be returning for my pizza fix again and again and again ...', 'this pizza is a classic !', 'my daughter and i ordered my pizza slices to eat in and hers togo .', 'i will definitely go back for their pizza .', 'you can do better for pizza .', 'great pizza and fast service ; what more can you ask for ?', 'if u like thin crust pizza , this place is for you .', 'yesterday i had the misfortune of getting a pizza from bishops .', \"$ _num_ large pizzas at night , who does n't love that .\", 'i just had a white pizza with added spinach .', 'we ordered the simple extra cheese pizza .', 'best pizza in the city..unless you want sicilian style..then hit betos .', \"they are also now doing pizza although i 've never tried it .\", 'the pizza skins app was great and the pizza was great as well .', 'definitely our fav neighborhood pizza delivery place .', \"this would n't even qualify as pizza in north jersey .\", 'we went home and ate our large mac-and-cheese pizza and enjoyed it .', \"and i 'd put bellisario 's pizza up against any in the city .\", \"it 's in my top _num_ pizza places in pittsburgh .\", \"ron 's is good pizza .\", 'Colorless green ideas sleep furiously .', 'their pizza box was more like a diaper .', 'we love their specialty pizzas , especially the hawaiian and calabrese .', 'not only was the pizza phenomenal , it was cheap !', 'wings , pizzas , sandwiches , wraps , fries and other appetizers .', 'i have been eating at village pizza for over _num_ years now .', 'best pizza shop in bloomfield .', \"margarita pizza - best fucking pizza i 've ever ate !\", 'all the pizzas were good but i personally loved bronx bomber .', \"i 'm down with the pizza .\", 'one of the better pizza buffets around town ! !', 'it took _num_ hours and our pizza was cold .', 'delivery is fast and non-pizza items are good as well .', 'they make the best pizza i can buy .', 'in fact , just talking about it makes me crave pizza ... mmmmmm .', 'he verified order via web was only a cheese pizza .', 'we went for the pizza , because of other reviews we had heard .', 'he said you have to try their pizza .', 'this is , in my opinion , the most authentic ny pizza around .', \"i 've been eating fiori 's pizza since the _num_ 's .\", 'so , better pizza ?', 'i have not had any problems with the pizza being too greasy .', \"their pizza is nothing more than a glorified `` lunchable '' .\", 'pizza reminded me of authentic pizza from italy .', 'i might not have liked the wood fried pizza .', 'not the best pizza i have had but certainly not the worst .', 'go here , enjoy the pizza , come back for more .', 'i ordered two slices of cheese pizza ( $ _num_ ) .', 'the pizza tastes even more incredible when eaten immediately .', 'stick with a pizza joint .', 'the pizza is a hot mess .', '( and i love cheese pizza ! )', 'we had pizza there the other night and i could taste the freezer burn .', 'another member of our party ordered the pizza .', 'otherwise glass nikel for your other types of pizza cravings .', 'called on a monday at 11:08 am to order _num_ small pizza .', 'medium veggie pizza with garlic crust .', 'so based on my preferences , this pizza really does it for me .', 'ii pizzaiolo has long been on my radar as a new place to try .', 'my first stop when i visit fort mill is village pizza !', 'best pizza on beverly rd', 'the pizza itself is simple : crust , sauce , and cheese .', 'so with deflated egos back to il pizzaiolo we go .', \"my favorite pizza was and still is campiti 's .\", 'the pizza that my wife & our company ordered looked very good .', \"i 've eaten plenty of pizza .\", 'was told it would be _num_ minutes for a small pizza and wings .', 'new york style pizza that you have to food to eat .', \"i 'm still getting comments about how good the pizza was .\", \"i love howie 's pizza but this particular store is clueless .\", 'i ended up taking half of it off to enjoy the pizza .', 'pizza options for you to pick from .', 'the doc marg pizza is truly amazing .', 'while everyone goes here for the dogs , the pizza is not be ignored .', 'i ordered the ephesus pizza with lamb skewers ( $ _num_ large ) .', 'fresh shucked oysters and parm & arugula pizza great !', 'i mostly get things like hoagies and pizzas.. they are pretty decent', \"i did n't order anything fancy , but their pizza was great .\", 'dicarlos is in my opinion the best pizza in the pittsburgh area .', \"`` oh , what i would n't do for some il pizzaiolo ! ''\", \"i truly enjoyed my pizza and i 'll be back for more .\", 'il pizzaiolo totally nailed it in my opinion !', 'il pizzaiolo totally nailed it in my opinion !', 'if you want a simple pizza - i.e .', 'the pizza was served with a mound of burnt ashes on the bottom .', 'the down side is the pizza .', 'the pizza was awesome , i would definitly recommend their pizza .', 'i wound up bringing half my pizza and the soup home .', 'brick oven pizza cold ... .', 'best thin crust pizza .', 'located in the plaza next to pizza parma .', 'too many decent pizza places in charlotte to settle for this place .', 'i have had better pizza at little caesars .', 'the pizza i ordered was ok .', 'i eat a lot of spinach pizza and it usually is flavorless .', 'ok pizza ... .. nothing great .', \"little has changed with rocky 's pizza in the past couple decades .\", 'took _num_ hours for one pizza to be delivered .', 'the pizza itself ended up being really solid .', 'a large pizza will feed a family of _num_ even _num_ .', 'love the pizza , the atmosphere , and location .', \"i grew up in dormont and thus grew up on campiti 's pizza .\", 'great pizza , all ingredients are fresh and made at the shop .', 'wood fired neapolitan pizza and pastas .', \"no fancy `` gourmet '' pizzas on the menu .\", \"`` casa '' is a tiny neighborhood pizza shop located near the firehall .\", 'alright , so i had a mixed experience at ii pizzaiolo .', 'pizza was ok .', 'its been our go -to pizza place ever since .', 'almost _num_ hours to get a pizza delivered .', 'i personally think the sauce is what makes this pizza so good .', 'the appetizer got there after another _num_ and then the pizza took forever .', '_num_ stars for a pizza joint ?', 'got a large pizza for around $ _num_ as take out .', 'i would recommend ny pizza express for a quick cheap bite .', 'i swear my pizza was frozen from the grocery store .', 'i ordered a medium pizza with chicken and spinach .', 'my favorite is the buffalo chicken pizza .', 'this was the first good pizza place to open in uptown .', 'i always pick up a pizza when i am near bellevue .', 'i stop at il pizzaiolo every time i am back in town .', 'i am sick and tired of pizza .', 'the pizza is really great ( i stopped ordering from anywhere else ) .', 'dave called the pizza store and told us that the driver dropped some money !', 'the pizza was just ok .', 'the pizza was just ok .', \"did n't expect much from pizza hut .\", \"i do n't recommend getting a pizza from bishops\", 'also , i had the pepperoni pizza and it was wonderful !', 'this is hands down my favorite pizza in all of pittsburgh ! !', 'best pizza in york co .', 'best beer selection in pittsburgh , great hot dogs , pizza , veggie burger .', 'good little pizza place .', 'i may try the pizza but other reviews noted it was pricy .', 'to summarize , good pizza and cheap .', 'as for the pizza , it was fine .', 'the pizza was ok .', 'wow what great pizza and wings .', 'sooo we came up with a plan to replicate their pizza ourselves !', \"this place is below average when it comes to service & pizza 's .\", 'wonderful family restaurant where you can bring the kids for great pizza .', 'if you like a traditional pizza , this is the place .', \"i never expect spectacular out of my pizza , just my primanti 's .\", 'now i remember why i rarely get pizza here - they are super expensive !', 'i love having another delivery option besides chinese and pizza .', 'awesome pizza joint .', 'village pizza !', 'i have a new favorite pizza place .', 'i ordered a stuffed ( pie ) pizza for carryout .', 'not fancy gourmet , but delicious pizza !', 'my favorite specialty pizzas are :', 'love our local pizza joint !', 'the deep-dish pizza we had was amazing .', 'i am happy to wait _num_ minutes for a pizza .', 'good pizza and hoagies .', 'mineos is by far the best pizza in pittsburgh .', \"no - but get over it , it 's a pizza place .\", \"campiti 's pizza is not the pizza i like .\", \"it was n't pizza i was smelling , or at least fresh pizza .\", 'this pizza hut is quite possibly the worst service i have ever received .', 'i ended up purchasing the pizza ( needed to eat ! )', \"the beer list was better than most pizza places i 've been too .\", 'they have so many good dishes , but i wanted the pizza last night .', 'mmm ... even thinking about their pizza makes me crave it .', 'the food selection is basically wings , burgers and pizza .', 'i really like the pizza and marinated vegetables .', \"you do n't even bake the pizza !\", 'pizza is pretty standard .', 'the beer was pretty cheap and the pizza was tasty .', 'something about the sauce makes me like their pizza .', 'i have tried ii pizzaiolo twice now and i am not a fan .', \"every since i 've moved to bloomfield , this is my main pizza joint .\", 'pizza is very hit or miss .', 'very good pizza , best delivery pizza in my area .', 'staff are great and the pizza is always yummy !', 'fresh , hot pizza , good service , good value .', 'i think pizza italia is a vastly underrated pizza shop in pittsburgh .', 'bella notte is for pizza .', '( yes i know that reference is french ) so mangia bene at il pizzaillo', \"i 've tried all the veggie oriented varieties except the pear & gorgonzola pizza\", 'i enjoy just plain pizza .', 'with no interaction with the pizza hut staff .', 'we ordered spaghetti with meatballs and pollo divino pizza .', 'the pizza was super greasy and cheesy , but flavorful and delicious .', 'the pizza was the star , with good quality ingredients and nice thin crust .', 'i was excited for the lobster/artichoke pizza , but it was absolutely tasteless !', 'whenever we really want pizza , this is the only place we order from .', 'but with pizza this good , who cares ?', 'most recently , we called ahead and ordered our pizza .', 'this is always a good choice for pizza !', 'pizza , pasta , salad ... .everything was great .', \"we accidentally end up at beto 's and plan to get a medium pizza .\", 'called and ordered _num_ pizzas in many styles .', 'i have only ever eaten their pizza .', 'best pizza in the south hills .', 'sometimes i like to stop into a pizza place for one slice of pizza .', \"i 've been on a good pittsburgh pizza hunt .\", 'there is a wide variety of food choices here , from salads to pizza .', 'i like the pizza and the selection of toppings .', 'best pizza in town but you have to pick it up .', \"this is my man 's favorite pizza place .\", \"today , if my family is eating pizza we are eating mineo 's .\", 'the personal pizzas alone were $ _num_ each ...', 'and super pizza .', 'maybe a _num_ to _num_ minute wait for your pizza .', 'pizza crust is perfect ... not too thin , not to thick and crunchy .', \"buck 's is my favorite pizza .\", 'will probably not go back except perhaps to try the pizza .', 'pizza is decent here too .', \"that said , i still have dreams about campiti 's pizza .\", '_num_ slice pizza for $ _num_ and one topping .', \"my office often gets pizza delivered from monte cello 's .\", 'for pizza ?', 'i had the chorizo and manchego pizza for one .', '$ _num_ for a indiviudal pizza ?', 'overall , the pizza was decent and the service was quick and friendly .', 'i only gave them _num_ stars because the pizza itself was pretty good .', \"how have i not reviewed pittsburgh 's best pizza ? !\", 'delivery is reliable , and pizza always dependable good .', 'pretty straightforward little pittsburgh pizza joint .', 'cheese pizza a', 'one of the best pizza places in the north hills and definitely in aspinwall .', 'who knows , maybe i was going to order a pizza anyway !', \"pizza ok on it 's own nothing great .\", 'this is a good , basic pizza joint ( for pgh ) .', 'burgers and pizza are always a fantastic choice .', 'overall , an okay to decent pizza place that delivers .', 'but like i said , this is where we go for pizza .', 'good pizza and our go-to for delivery .', 'usually pizza that greasy is caused by low quality cheese .', 'the crust and sauce on these pizzas are perfect .', 'luckily they worked with us and let us order the sliders and thai pizza .', 'when our waitress came over , we all ordered our own pizza .', 'took a pizza with us back to the room .', 'pizza , pasta dishes , seafood , and dessert- all were great .', 'the pizza was really really greasy .', 'yummy bread , pizza !', 'just good old-fashioned thin crust pizza .', \"i know there 's good pizza around here .\", 'i am feeling pretty defeated by this pizza , both in brain and bung .', 'not a lot of places in pittsburgh do sicilian pizza .', 'not like any other pizza you have ever had .', 'i saw a lot of pizzas which looked decent .', 'call marcos pizza best customer service in town and fastest delivery anywhere', 'to conclude , average pizza paired with awful service .', 'the pizza is what you expect , nothing better than ok .', 'top _num_ pizza joints in the burgh .', 'my husband ordered the margarita pizza & i ordered the shrimp tacos with rice .', \"that is not what i thought when i ate pizza parma 's pizza .\", 'i had the brunch pizza which was pretty decent .', 'we love their r & bs special pizza .', 'hands down the place to get pizza in the charlotte/ huntersville area .', 'ordered the quattro formaggi pizza .', 'this is my new go-to pizza place .', 'i ordered the traditional turkish pizza aka the pide because why not .', 'pizza delivery and 7/11 also walking distance .', 'the pizza showed up about _num_ min .', 'when we finally got the pizza , it was not hot .', 'the pizza is not really worth what they are asking for full price .', 'was so excited to get your pizza today .', 'great stuffed pizza .', \"i 'm no pizza expert , but it was good and cheap .\", \"i was n't in the mood for the heavy crusted deep dish pizza .\", 'i had the buffalo chicken pizza and really enjoyed it !', 'i stopped eating pizza .', 'or it could have been that it really simply was really good pizza .', 'the pizza is out of this world', 'i had the spinoccoli deep dish pizza and i loved it !', 'totally screamed old pizza place .', 'i think their pizza is , again just okay .', 'great food pizza & wings .', 'i paid over $ _num_ for _num_ large cheese pizzas .', 'yummy pizza and excellent service !', 'was it in my top five pizzas of all time ?', 'it is sicilian style pizza and it is delicious !', 'some friends and i ordered a couple of pizzas for delivery from here tonight .', 'best pizza crust .', 'i like pizza , but typically i am disappointed in one way or another .', 'the pizza crust was slightly sweet and baked just right .', 'very friendly service and good pizza , though .', 'i really hope the rest of the menu is as good as the pizza .', 'sorry , pizza pit staff .', 'we will be back and try the pizza and beer next time !', 'no pizza joints like this in baltimore', \"the main reason we avoided fuel pizza is because it did n't sell alcohol .\", 'the staff are great people and the quality of the pizza is amazing .', 'pasta and pizza are equally great !', 'i ate every piece of that pizza slice including the crust .', 'the pizza is inconsistent .', 'the large pizza is huge .', 'the large pizza is huge .', 'both the pizza and the breadsticks are not the quality i used to .', 'the white pizza with spinach is also really good .', 'the family told me that the pizza was great !', 'i love their pizza- the red veggie is my favorite .', 'first off , the pizza was basically glued to the wax paper .', 'i love the combination of freshly grated cheeses and homemade pizza sauce .', 'the pizza i tasted , reminded me of a few spots in manhattan .', 'i love the food here , and the pizza is outstanding .', 'our pizza was $ _num_ and can easily serve _num_ people for dinner .', 'your pizza comes out and ... ... `` what the hell is this ?', \"the sauce is great , and they do n't drown the pizza in it .\", 'it may not be gourmet pizza ... but dang it !', 'i grew up eating their pizza .', 'good pizza for a decent price !', 'pizza and burgers are great .', \"i 'm so sick of pizza chains and pizza made on conveyer belts .\", 'love this pizza !', 'pizza is like art .', \"best pizza we 've found in the south hills .\", 'i just moved to carnegie and was looking for a good pizza joint .', 'not pizza ... .p-a-n-c-a-k-e .', 'however , the pizza improved a somewhat mediocre appetizer .', 'we were looking for a pizza place downtown open late and stumbled upon fuel .', 'definitely the best pizza i have ever had in my life .', 'you guys had the best pizza in and around carrick .', 'the large pizza with _num_ toppings $ _num_ special is a bargain !', \"there 's some great pizza out there .\", 'my husbands go to for pizza delivery in the matthews stallings area .', 'top _num_ pizza in pittsburgh .', 'as for you pretentious types , pizza is not a health food .', 'i really like the pizza crust here - chewy and not soggy .', 'i was wrong about this one and the pizza was delicious and on point .', 'ordered about 10pm - waited an hour ... . no pizza , no call .', 'who knew a small pizza could cause so much internal chaos .', 'their pizza is thin with delicious crust and the toppings are great .', 'i love the pizza , one of my favorites downtown .', 'pretty much like most combined taco bell/pizza hut locations .', 'i recommend this pizza for dine in or carry out .', 'great pizza , our new go to pizza place .', 'excellent pizza and excellent wings .', 'the pizza was good however the service was less than to be desired .', \"next time i 'll try the pizza .\", 'would have been _num_ stars w/ better pricing but what killer pizza ! ! !', 'the pizza bagels were soggy yet burned .', \"you ca n't wrong with any of the pizza choices here .\", 'i had the pizza and it was mediocre at best .', 'expensive , but really great pizza .', 'the pizza was good and the prices were a little high .', 'the crust is thin and the pizza is decent .', 'the fries were super soggy and the pizza was pretty flavorless .', 'regardless , every pizza has been consistently delicious .', 'they tend to over do the sauce sometimes but overall great pizza place .', 'one slice of this pizza , and i immediately felt sick .', 'overall , this is more of a pasta/entree place ... not a pizza place .', 'the pizza itself is massive , about _num_ in or little more .', 'wood fired pizzas are also very good .', 'there is no seating ; pizza is take out only .', 'the pizza was simply ok .', 'the pizza at this place is o.k .', 'then the other day , we went back and i tried pizza .', 'i truly have never had better pizza in the entire city of pittsburgh .', 'not stingy on the toppings while not overwhelming the pizza either .', 'even with all the toppings the pizza stood nice and firm .', \"if you do n't order this pizza ... you fucking suck .\", 'yes , it was crowded but got a table and ordered pizza and wings .', 'the food and pizza and service are very good , surprisingly so !', 'their cheese pizza is very flavorful .', 'i got pizza later anyway .', 'inside , it is your typical neighborhood pizza place/bar .', 'the last time i finally got pizza delivered it took over _num_ hours .', 'my pizza always comes out perfect .', 'i love pizza and this is amazing ! !', 'pizza ?', 'but told our server we could not eat the burnt pizza .', 'pizza and crust is the best in town .', 'the new haven style pizza is amazing .', 'the pizza is affordable and very tasty !', \"much better pizza even if they do n't deliver .\", 'pizza had great thin crust .', 'i seriously crave their pizza puffs ! ! !', 'we went again another time for the pizza but it was a super disappointment .', 'got a large pizza .', 'every time i am in town i have to get their pizza !', 'i wasted nearly twenty bucks on the driest and most boring white pizza ever !', 'our choice for high quality pizza when we want to splurge .', \"i finally tried casey 's pizza and i was extremely pleased .\", 'whoever the pizzaman was obviously took no pride in it whatsoever .', 'we were really impressed with the quality cheesy pizza from capri .', 'pizza places should never run out of certain things .', 'this is for pizza people .', 'the pizza is the best in the area -- exquisite crust , nice ingredients .', 'i did it myself when i worked at a pizza shop years ago .', \"i would n't order a pizza from them again .\", 'hands down best pizza in pittsburgh .', \"i 've been eating pizza from buck 's for over _num_ years now .\", 'this is how pizza should be .', 'great pizza place especially for take out or delivery .', 'personally , i think this pizza is best when you eat in .', \"did n't even enjoy the pizza crust .\", \"i just feel like i 've had much better pizza elsewhere around town .\", 'pizzas are a little less .', 'possibly the worst overpriced pizza there is .', 'the pizza is ok .', 'could not make a pizza to save their life ...', 'we shared fish tacos , a margarita pizza , and chicken tenders .', 'people seem to like their pizza , so maybe go with that .', 'the pizza is thin crust and was delicious .', '_num_ lunch- 1-topping pizza', 'their menu has pretty standard bar-fare , with sandwiches , wings , and pizza .', 'this pizza was okay .', \"we had the bruschetta , shrimp scampi and joe 's favorite pizza .\", \"some of the best pizza i 've had since moving to pittsburgh .\", 'i tasted the pizza and the crust was undercooked and burnt on the edges .', 'i will never order pizza from this store nor any people i know !', 'worse than store freezer pizza .', 'the pizza is solid , yet can be inconsistent .', 'great pizza , wings and salads .', 'their pizza has been a staple of downtown since _num_ .', 'the staff there is always friendly , and the pizza is delicious .', 'i ordered pizza from this location recently .', 'while we were there , they usually had _num_ pizzas out at a time .', 'the pizza is freakin cheap and pretty damn good , especially for the price .', 'pizza is cheap but good .', 'for the pizza , ugh .', \"i have never had a pizza that inspired me as much as mineo 's .\", \"the good news is that i did n't have to pay for the pizza .\", \"then found to our dissatisfaction that the pizza was only _num_ '' .\", 'the pizza was fine .', \"ca n't beat the _num_ medium sized 2-topping pizzas for $ _num_ though .\", 'good , clean pizza/bar place .', 'the pizza crust was good -thin and chewy just like i prefer .', 'enjoy if you choose this pizza place , i know i do .', 'this is a pizza hut/wing street .', \"if you 're thinking of using the pizza hut online ordering system do n't .\", 'anywho , i tried a pizza the 2nd time .', 'anyway , the main reason to come to minutellos is for the pizza .', \"seriously the worst pizza hut i 've ever ordered from .\", 'prices are fair for pizza anywhere , let alone downtown .', 'very good classic new york pizza .', 'they also have pictures of real pizzas on the wall -_-', 'the pizza is decent , and i like their sauce .', 'i was skeptical about feta and fontina on my pizza .', \"the pizza 's alright .\", 'sometimes gluttonous pizza with friends is all you need after a long friday night .', 'pizza seemed old and stale .', \"it 's not chi- style nor any of the pizza hut concoctions .\", 'these folks really care about their pizza .', 'however , their pizza is good , not too greasy , not too dry .', 'we ordered one each but again ... $ _num_ for a pizza ?', 'i have a coupon for free _num_ inch pizza when purchasing _num_ inch pizza .', 'the pizza , on the other hand , was absolutely delicious .', 'pizza in the cu seems to be an overall disappointment .', 'our server was super friendly and the pizza was great .', 'delicious , ny style , thin crust pizza .', 'based on reviews , i thought the pizza would be even better .', 'i waited _num_ hour and _num_ minutes for my pizza to be delivered .', 'pizza connoisseurs delight .', 'what was worse was the pizza was just average .', 'i love their pizza .', \"we 've been ordering pizza from here for _num_ years .\", 'i get home and realize we were given the wrong pizza .', \"pizza was just horrible.i 've had better at chucky cheese .\", 'they delivered pizza with the wrong toppings .', 'pizza had too much sauce on it and was drenched .', \"their s'mores dessert pizza is amazing .\", 'their pizza is gross .', \"i would recommend demetrio 's for pizza only and take-out , not dine-in .\", 'great ny style pizza , thinner crust .', 'the best pizza in pittsburgh , hands down .', 'sad to say this pizza was so bad .', 'it is their signature pizza , cant go wrong .', 'i feel like its better than a lot of other chain pizza places .', \"i told my server that the pizza was n't good .\", 'i liked this pizza , but would never order a full pizza of it .', 'i may go back but not going to be my go to pizza place .', 'there are other better pizza places in the area .', 'all in all this pizza just sucks .', 'when the pizza finally arrived , it was almost doughy it was so undercooked !', 'this place is delicious and the pizza is top notch !', 'if you like the pizza here , then you will love chefboyardee out-of-the-box pizza .', 'i may give the pizza another try .', '.. everyone loves this pizza ... .. _num_ stars !', 'i ordered one of the small pizzas which were buy _num_ get one free .', 'i ordered a small deep dish pizza and it was dripping in grease .', 'wings , quesadillas , wraps , burgers and pizza .', 'offered us restaurant suggestions and even a place to get pizza .', 'when my pizza never showed up i called and found out .', \"ron 's pizza palace is cheap .\", 'some of the best pizza in the city , if not the best .', 'the crust , sauce , and cheese illustrate unique qualities of pittsburgh pizza .', 'they do not cook directly on the brick though , they use pizza screens .', \"it was unlike any pizza i 've ever had .\", 'the sauce is a little sweet , the pizza is just amazing !', 'nice neighborhood pizzeria with great pizza !', 'my go to pizza delivery place !', '- # _num_ : pizza', 'if you are going to order something , i would go with the pizza .', \"we do n't have pizza like this here .\", 'ok pizza .', \"the pizza may be lame , but it 's cheap .\", 'every time i have had a _num_ inch pizza .', 'live close to this place and really like their selection of beers and pizza .', 'there are a lot of pizza options in sun prairie .', 'but either way the pizza is always great .', \"it is located in the black lion shopping center next to cici 's pizza .\", 'awesome ingredients make awesome pizza .', 'the pizza is unique .', 'not the best pizza i ever had but it sure was tasty .', 'this is damn good ny style pizza .', \"mineo 's pizza is my favorite pizza in the pittsburgh region !\", 'not the best pizza but above average .', 'bland bread with butter and cheese ... . and for the pizza ...', \"sacramento pizzarias have nothing on pittsburgh 's .\", 'i have to recommend the pizza .', 'it looked like microwaved pizza and it tasted terrible , cardboard like .', \"the _num_ '' is a good size for an individual pizza .\", \"turns out , they 're there a lot because its damn good pizza .\", 'our favorite pizza and a great family ownership and atmosphere .', \"pizza is awesome if that 's what your going for .\", 'pizza was fine but nothing special .', 'not a bad choice for a neighborhood pizza place .', 'after almost an hour of waiting , i still had no pizza .', 'great place for the quick and easy pizza joint .', 'this is the bar attached to the pizza joint .', 'thin and crispy california style pizza .', 'one of the top _num_ pizza places in the city !', \"i ca n't think of a more perfect pizza anywhere .\", \"really do n't get the high praise for their pizza .\", 'we ordered a large supreme pizza , and it was really good !', 'pizzaiolo did not disappoint .', 'this is the worst pizza store in charlotte .', 'this is the best pizza i have found in pittsburgh so far .', 'great sicilian and speciality pizzas .', 'you have to be goofy to not like this pizza .', 'my kids who are _num_ and _num_ ordered the make your own pizza .', 'the building itself made me think of the husk of an old pizza hut .', 'standard so-so pittsburgh pizza .', 'they offer a wide range of pasta dishes , hoagies , and pizza .', \"pizza wa n't bad , it was actually pretty decent .\", \"my bbq pizza 's crust was just kind of dry and tasteless .\", 'this is my favorite pizza of downtown .', 'my favorite place for pizza in mcfarland .', 'outside of the grinder realm , their pizzas are pretty good & greasy .', 'so we had to pay for a pizza we could not eat .', 'very good service and great pizza !', 'excellent pizza , salads , and buffalo wings !', \"i dont ' like pizza ... .so this is definitely my choice convenience food !\", 'this pizza is delicious , and worth the price .', 'the pizza at il pizzaiolo was fantastic .', 'if you want great pizza , drinks and a nice date-night atmosphere in mt .', 'too much cheese on their pizzas , and the customer service is incredibly poor .', 'they specialize in turkish pizzas ( pide ) and wow they are good .', 'or i may try pizza and have it delivered .', 'avoid california pizza kitchen though ... not like the restaurant experience you would think .', 'the pizza is as good as i remember it being .', 'the pizza is the best around .', 'i had _num_ pieces of pepperoni on an entire large pizza .', 'best pizza i have ever had .', 'here is my take on the pizza .', 'i had a pizza and it was quite bland .', 'they had a pizza/hoagie/soda deal for less than $ _num_ .', 'plus their sauce and topping choices really round out this pizza .', 'the pizza was huge .', 'mmmmm delicious pizza at a great price .', 'some of the best pizza around and great service .', 'the pizza , not really all that great .', 'now , the pizza !', 'amazing is all you can say about this pizza .', 'pizza is good- cheesy and delicious .', \"i 've had pizza and two different pasta dishes .\", 'this is an old-school pizza shop !', 'the pizza was thin and delightfully tasteful - no one flavor really overpowered another .', 'the pizzas were decent .', 'the marinera sauce was bland ... their pizza is great tho : )', 'there are too many decent pizza delivery places around to settle for this .', 'the pizza is very soggy and the salad is brown and mostly inedible .', 'but the food did not live up to my expectations , especially the pizza .', \"best pizza in the area that i 've found .\", \"it 's just not my style of pizza .\", 'delivered me a pizza different than i ordered _num_ times in a row', 'we ordered a small cheese pizza to pick up .', \"i now live in new york city and have n't found anything like pizzaiolo .\", 'place was dirty and the worst pizza ever .', 'pizza not ready when promised .', 'complete with metal plates and pizza trays .', 'their pizza was pretty decent .', 'they offer pizza and other goodies too .', \"the emil 's pizzas are good as always .\", 'i have eaten pizza all up the coast .', 'the pizza was just sweet without much other taste , almost like ketchup !', \"if you 're in to typical pittsburgh pizza then this place is for you .\", 'worst pizza hut experience ever .', 'the pizza was not bad .', 'an exceptional pizza delivery spot you will be grateful to attend .', 'i love this pizza .', 'i love this pizza .', 'i love this pizza .', 'i had a pizza that was to die for .', 'big fan of their pizza .', 'the pizzas my husband and i ordered were mediocre .', 'small pizza shop in aspinwall .', 'they have really really really good pizza and food..', \"there 's a starbucks and pizza hut at this location .\", 'check out the hand made pizza station .', \"i 've really enjoyed their pizza so far .\", \"the pizzas were actually really good but the other sides were n't worth it .\", 'good pizza but certainly not the best one around town !', 'the serve a variety of pastas , salads and pizza .', 'next time i am in pittsburgh i will try another pizza place .', 'the pizza is only slightly rubbery .', 'ordered a medium white pizza and it was ready in _num_ minutes .', 'we order pizza from here all the time and it is always great .', 'i tried a little of the margherita pizza , and it was not good .', 'consistently great pizza .', 'yeah , i enjoyed this pizza .', 'pizza looked tasty .', \"but let 's be honest you go to a pizza shop for what ?\", 'pizza , sandwiches , beer , what could go wrong ?', 'this is my favorite place to order delivery pizza from .', \"they even got to eat furnace-fired pizza , gooey s'mores and more !\", \"keep in mind that i have n't had pizza from this place yet !\", 'the only snag i ran into was trying to order a pizza delivery .', 'the pizza was tasty and pretty well done .', 'it took another _num_ minutes before he actually got the pizza .', 'a pizza affair .', 'some pizza does not survive the delivery process very well .', 'the pizza was tasty with a thin crust and a crunchy edge to it .', 'we shared the chicken oreganata pizza and it was wonderful !', 'this is by farr a very great tasting pizza restaurant !', 'plenty of other pizza places around', 'the best pizza you can get in the area .', 'very good customer service , hot fresh pizza slices , and extremely good prices .', 'the spinach artichoke dip and white pita pizza is good .', 'great new pizza place .', 'the pizza is fabulous and the sauce is amazing !', \"unfortunately at this location i was n't given a chance to get a pizza .\", 'this is the best pizza in the world , i can assure you .', 'this is a unique pizza .', 'great pizza at a great price !', 'pizza was a great all around .', 'we actually love their buffalo wings here and their pizza is ok .', 'the pizza is fine , not the best or worst i have ever had .', 'the white thin crust pizza with spinach was very good .', 'look , pizza is pizza .', 'where can you find authentic nyc style pizza ?', 'was this pizza amazing or what ? ?', 'they also violated my number _num_ pizza sin and overloaded the slices with cheese .', 'do yourself a favor and find another pizza location .', 'very unhelpful service and pizzas always arrive 20-30 mins after time given on order .', 'important on a pizza .', \"i 'm not happy about this pizza .\", 'is it the best pizza in pittsburgh , like many reviewers claim ?', \"i 've tried a lot of pizza places and this is so bad .\", 'this is a 5-star neighborhood pizza delivery joint .', 'we enjoy this place , the pizza is top notch and delivery is fast .', 'but whoaaaaaaa whoa was this terrible , overexpensive pizza .', 'i ate one of the _num_ slices of the pizza and called it quits .', 'the pizza which is what we always get is terrific too .', \"service was good but probably the worse pizza i 've ever had .\", 'came to pick up _num_ pizzas for an event .', 'on to the pizza .', 'we ordered a medium pizza with italian sausage and green bell peppers .', 'now i am not the biggest pizza lover .', 'this is by far my favorite pizza i have ever had .', 'not a bad little local pizza spot overall .', 'hut is so boring and pizza pit closed .', 'if you want great pizza this is the place .', \"personally , i was n't having an orgasm over my mediocre pizza .\", 'cons : the pizza was not good .', \"the crust was decent , but it just was n't a memorable pizza .\", 'definitely the best pizza ever ! !', '_num_ inch pizza on special was cheap .', 'great pizza and huge portions this is some really good stuff .', 'the pizza itself is ok at best .', 'pizza was good but really expensive .', 'great pizza , reasonable prices , fast service - cant ask for much more !', 'the pizza here is a lot like nj/ny pizza .', 'we got a pizza , and it was really pretty bad .', 'pizza is pretty bland and there is nothing remarkable about it .', 'solid pizza at a great price .', 'now the important stuff : lots of choices for their pizzas .', \"i 'm a pizza traditionalist , but this was n't even really pizza .\", 'i ordered _num_ pizzas and salad for all ...', 'best pizza in pittsburgh imho', 'a decent place to order an authentic looking and tasting pizza .', 'pizza is good too !', \"they also happen to have pittsburgh 's best pizza .\", 'the pizza was delicious !', 'the pizza was delicious !', 'i spent days on the toilet after eating the pizza .', 'an extra large pizza was so small it barely fed my wife and i .', 'real good pizza highly recommended .', \"honestly ca n't beat it for gnocchi or pizza .\", 'pizza !', 'the pizza was bland , tasteless .', 'i do like the pizza though .', 'ok , i must say that i do love their pizza .', 'good pizzas too .', 'solid pizza for a great price .', 'i had dined at the market square il pizzaiolo ( now pizzaiolo primo ? )', \"a unique crust texture/consistency and good pizza 'guts ' .\", 'i ordered a slice of cheese pizza and a grilled chicken salad .', 'this pizza is like no other !', \"i could n't finish the pizza - way to go big medium pizza .\", '$ _num_ for a personal sized pizza .', 'they cook your pizza pretty quickly and it has always been good .', 'best pizza in the north boros .', \"i do n't like knocking hometown pizza joints .\", 'great pizza fresh ingredients !', 'a friend of mine calls this the best pizza in pittsburgh .', 'however , the pizza is decent .', 'i will be going back to try their pizza and other food .', 'not comparable to the other top ten pizza joints in pittsburgh .', 'now we also got pizza , it was amazing !', 'this was just bad pizza .', 'i had the pizza , which was pretty damn good .', 'i just like the pizza .', 'true ny style pizza .', 'if this is really the best pizza in pittsburgh ... wow .', 'nor did i finish my second mini pizza .', 'not many people in there tonight so the selection of pizza seemed minimal tonight .', 'instead , they are all about their pizza .', 'fake words aside , this pizza really sucks guys .', 'the pizza was alright i guess .', 'they are , in my mind , the best pizza place in pittsburgh .', 'my pizza was okay , nothing yummy .', 'there are plenty of pizza places in the area .', 'best fu*king pizza in pittsburgh .', 'today was the worst pizza i have ever had .', 'awesome fast pizza', \"i 'll go with the pizza and the yogurt .\", 'the local pizza place delivers until _num_ am .', 'hands down the best pizza in pittsburgh .', 'hands down the best pizza in pittsburgh .', 'pretty okay pizza .', 'the whole pizza w jalapeos is my favorite .', 'this is some of the best american style pizza anywhere .', 'i honestly think it is the best pizza in the usa .', 'solid pizza', 'this trendy little place has great pizza .', \"i had n't tried this place yet and was in the mood for pizza .\", 'the pizza was great , the heart was perfect , and he loved it !', \"the pizza was n't bad , but it was n't great either .\", \"sometimes , i do n't even come here for the pizza .\", 'i really like their pizza .', 'the pizza use to be good .', 'the worst pizza hut ever .', 'pretty good but i still prefer a vinnys pizza over anything .', 'i enjoy their pizza .', 'the pizza is very good however !', 'our fav pizza spot in pittsburgh !', 'the pizza was flavorless and the crust tasted like cardboard .', 'i got a medium _num_ topping and this pizza was very bland to me .', 'ok , pizza .', 'this is a small takeout and delivery pizza shop in morningside .', 'i think the pizza is not good due to the soggy crust .', 'this pizza felt like i was eating a pound of cheese mixed with sauce .', 'the pizza is always good too .', \"sometimes i just do n't want a whole pizza !\", 'great pizza from the graziano family .', \"this `` pizza '' was the worst food i have ever eaten .\", 'of the pittsburgh area pizza huts .', 'good pizza that tastes great and is very authentic !', 'this place had good pizza and service was decent .', 'pizza was weak .', 'best pizza around !', 'ate the pizza dry as shit .', 'i ordered breadsticks and a large pizza .', 'they have really good pizza .', 'the greco piece of pizza i had was also perfect .', 'good pizza , good service .', 'basic pizza .', 'this place is a great place to get ny style pizza .', 'definitely my favorite pizza place in pittsburgh so far .', 'good pizza at a great price .', 'good pizza as well as other great menu options .', 'what pizza ?', 'i sucked it up and ate _num_ pieces of pizza and _num_ wings .', 'the pizza was good , not the best and very small .', 'best pizza in town !', 'all over a freaking pizza !', 'worst pizza i have had in my entire _num_ years of life .', 'wonderful ny style pizza !', 'great ny style pizza .', 'this is thin crust , no-frills pizza .', 'most consistent delicious pizza .', 'no , its not a medium , its a small pizza .', \"still it 's a great pizza .\", 'one of the best pizza places in pittsburgh hands down .', 'i looooove their pizza !', 'the worst service and pizza .', 'the pizza was great and they have a decent selection at the bar .', 'also the pizza was bad .', 'the pizza was decent .', 'i was a bit disappointed with the pizza i got .', 'pizza is good but not great .', 'the best pizza around !', 'this is my favorite pizza ever .', 'possibly the worst pizza i have ever eaten .', 'this place is great for traditional pizza , apps , subs and wings .', 'the price of the failure of a pizza was not cheap either .', 'wooooooooow ... ..simply the best pizza in pittsburgh .', 'i am looking for another place to get pizza !', 'i may even consider it the best pizza in pittsburgh !', 'pizza , pasta , appetizers , seafood , burgers , salads and sandwiches .', 'some of my favorite pizza on the planet .', '- pizza', 'pizza was tasty and a good value .', 'this is the best pizza ever .', 'the pizza here is good .', 'kind of disappointing pizza', 'this is the best pizza ever ! !', 'not the best pizza in pittsburgh but adequate .', 'i highly recommend this pizza .', \"some of the worst pizza i 've ever had .\", 'best pizza in the area .', 'is this the best pizza in pittsburgh ?', 'friendly and good quality pizzas .', 'the pizza i ordered was very good .', 'wow , this pizza is really , really good !', 'everything about the pizza is fantastic !', 'the pizza was good ; not great .', 'their pizza was awesome ! !', 'the personal pizza was excellent as well .', 'delivered wrong pizza .', 'sandwiches , soups , salads , pizzas and calzones .', 'the pizza had no feta cheese at all .', 'i love their pizzas and their awesome $ _num_ special !', 'i really like their pizza , very very good .', \"it was one of the worst pizzas i 've ever had .\", 'excellent family owned pizza spot .', 'wonderful pizza at good prices .', \"i 'm pretty sure this is my favorite pizza in pittsburgh .\", 'wrong pizza was delivered .', \"this was some of the worst pizza i 've ever had .\", \"best pizza we 've found in town .\", \"nice pizza 's .\", \"this was the worst `` pizza '' i 've ever had .\", 'pizza - a', 'this is hands down the best pizza place in pittsburgh .', 'pizza , though .', 'making up for awful tasting pizza .', 'terrible pizza .', 'god himself wanted me to finish that piece of pizza , and i listened .', 'great selection of food with many varieties of pizza .', 'great little bar and pizza restaurant in mt .', 'onto the pizza !', 'pizza is truly one of the best in the city .', 'great pizza , great price !', 'so what is the best pizza in pittsburgh .', 'definitely one of the best pizza spots in all of pizzaburgh .', 'this is a take out pizza place .', 'one of my favorite pizza places !', 'great pizza at a reasonable price .', 'ashamedly , i threw half of a pizza away tonight .', 'wow , this place has good pizza !', 'best pizza place in the area !', 'nearby pizza parlor will deliver here .', 'this pizza is not good .', 'some of my favorite pizza in pittsburgh .', 'one of my favorite pizza places .', 'the pizza was horrible !', 'my favorite pizza place in the area .', 'they are fast and consistent in quality and the pizza is always great .', 'we sat down , ordered a pizza and it was served within _num_ minutes .', 'but their pizza was remarkably terrible .', 'the pizza is unique and delicious .', 'best pizza ever .', 'their pizza is very , very good .', 'they also have very good pizza .', 'one of my favorite pizza spots in pittsburgh .', 'their pizza is actually really good .', 'their pizza is good .', 'what is the best pizza ?', 'all my complaints aside , i did enjoy my pizza .', 'love this place pizza !', 'the best pizzas in pittsburgh !', 'pizza is surprisingly good as well !', 'best pizza is pittsburgh .', 'this place is some of my favorite pizza anywhere in the us .', 'horrible management and pizza .', \"the pizza was n't terrible but it certainly was n't good in my opinion .\", 'outstanding pizza !', 'delicious pizza .', 'the pizza was so poorly prepared that it was simply ridiculous .', 'this pizza was soooo good .', \"this was by far the worst `` pizza '' i 've ever had .\", 'the pizza is also wonderful !', \"the pizza 's pretty good as well .\", 'pizza is really good too .', \"they 're pizzas are wonderful .\", 'best pizza around .', 'yes , they have great pizza .', 'best pizza is pittsburgh , probably in the country !', 'great authentic ny style pizza .', 'pizza tastes great .', 'maybe the best pizza in pittsburgh .', 'this was an extraordinary pizza .', 'this is the best pizza in pittsburgh .', 'the pizza itself is pretty nice .', 'pizza :', 'best pizza ever !', 'pizza not the best .', \"i 've been coming here for years and i always enjoy their pizza .\", 'the pizza was good , but come on that was no medium pizza .', 'but the pizza is pretty good .', \"they do n't have many specialty pizzas .\", 'the worst pizza i have had .', 'the pizza is delicious .', 'the pizza is good , too .', 'good not great pizza .', \"worst pizza i 've had in pittsburgh .\", \"best pizza in pittsburgh , it 's not like most pizza .\", 'the pizza was good tho !', 'this pizza is so good !', 'this was not the best pizza .', 'the best pizza ever .', 'has pizza parlor in lobby .', 'the perfect pizza .', 'their pizza is also very good .', 'pizza sounded amazing .', 'pizza not so great .', 'my favorite pizza place in pittsburgh .', 'the best pizza in pittsburgh ! !', \"and the pizza was n't good .\", 'best pizza in pittsburgh !', 'it was a really really good pizza .', 'this is absolutely my favorite pizza of all time .', 'one of my favorite hometown pizza places .', \"the pizza was n't that good either .\", 'simply put , the pizza is great .', 'the pizza here is great .', 'but , this is great pizza .', 'pizza is terrific , too .', 'their pizza is really good .', 'the pizza here is amazing .', 'this was pizza !', 'the pizza itself though was not good .', 'pizza was good though .', 'this pizza is amazing !', 'the pizza itself is very good .', 'the pizza was really great .', 'pizza was absolutely great .', 'pizza is awesome !', 'pizza .', 'pizza .', 'pizza .', 'awesome place for pizza .', 'very good pizza !', 'omg amazing pizza !', 'most importantly , the pizza was excellent !', 'decent pizza .', 'the best pizza .', 'the pizza was awesome !', 'the pizza really is very good .', 'best pizza in pittsburgh .', 'best pizza in pittsburgh .', 'best pizza in pittsburgh .', 'best pizza in pittsburgh .', 'the pizza was pretty good .', 'this place has some excellent pizza .', 'pizza pretty good .', 'sure enough , the pizza was great .', 'pizza is quite good , too .', 'and the pizza is great .', 'pizza was good .', 'really great local pizza .', 'pizza is good .', 'fantastic pizza .', 'pizza is awesome too .', 'the pizza is good .', 'the pizza is good .', 'the pizza is outstanding .', 'incredible pizza .', 'the pizza is amazing !', 'the pizza is amazing !', 'the pizza is amazing !', 'good pizza .', 'good pizza .', 'excellent pizza !', 'pizza was excellent .', 'the pizza was excellent .', 'amazing pizza !', 'the pizza is fantastic .', 'amazing pizza .', 'the pizza was great .', 'the pizza was great .', 'the pizza was great .', 'the pizza is definitely good .', 'really good pizza .', 'great pizza !', 'great pizza !', 'great pizza !', 'the pizza is great .', 'awesome pizza .', 'awesome pizza .', 'awesome pizza .', 'awesome pizza .', 'excellent pizza .', 'excellent pizza .', 'excellent pizza .', 'great pizza .', 'great pizza .', 'great pizza .', 'great pizza .', 'great pizza .']\n"
     ]
    }
   ],
   "source": [
    "print(sen_rankings)"
   ]
  },
  {
   "cell_type": "code",
   "execution_count": 325,
   "id": "a4cd8042",
   "metadata": {},
   "outputs": [],
   "source": [
    "f = open('IDF Sentence_Rankings', 'r')\n",
    "idf_ranking = f.readlines()\n",
    "for i in range(len(idf_ranking)):\n",
    "    idf_ranking[i] = idf_ranking[i].strip()"
   ]
  },
  {
   "cell_type": "code",
   "execution_count": 326,
   "id": "f6d1a269",
   "metadata": {},
   "outputs": [],
   "source": [
    "idf_tau_ranking = []\n",
    "for i in data:\n",
    "    idf_tau_ranking.append(np.where(np.array(idf_ranking)==i)[0][0])"
   ]
  },
  {
   "cell_type": "code",
   "execution_count": 327,
   "id": "26172c02",
   "metadata": {},
   "outputs": [
    {
     "name": "stdout",
     "output_type": "stream",
     "text": [
      "0.3338353863716508 3.0830902758990844e-33\n"
     ]
    }
   ],
   "source": [
    "tau, p_value = stats.kendalltau(idf_tau_ranking, pca_tau_ranking)\n",
    "print(tau, p_value)"
   ]
  },
  {
   "cell_type": "code",
   "execution_count": 328,
   "id": "76574609",
   "metadata": {},
   "outputs": [
    {
     "name": "stdout",
     "output_type": "stream",
     "text": [
      "0.41913658831053174 2.16109637248936e-51\n"
     ]
    }
   ],
   "source": [
    "tau, p_value = stats.kendalltau(idf_tau_ranking, ica_tau_ranking)\n",
    "print(tau, p_value)"
   ]
  },
  {
   "cell_type": "code",
   "execution_count": 329,
   "id": "ebb0d941",
   "metadata": {},
   "outputs": [
    {
     "name": "stdout",
     "output_type": "stream",
     "text": [
      "0.11429476490171117 3.914972066328048e-05\n"
     ]
    }
   ],
   "source": [
    "tau, p_value = stats.kendalltau(idf_tau_ranking, poly_tau_ranking)\n",
    "print(tau, p_value)"
   ]
  },
  {
   "cell_type": "code",
   "execution_count": 239,
   "id": "d8642231",
   "metadata": {},
   "outputs": [
    {
     "name": "stdout",
     "output_type": "stream",
     "text": [
      "0.2313307967609387 4.7797211898347926e-58\n"
     ]
    }
   ],
   "source": [
    "tau, p_value = stats.kendalltau(idf_tau_ranking, rbf_tau_ranking)\n",
    "print(tau, p_value)"
   ]
  },
  {
   "cell_type": "code",
   "execution_count": 240,
   "id": "69092ba2",
   "metadata": {},
   "outputs": [
    {
     "name": "stdout",
     "output_type": "stream",
     "text": [
      "0.2884466904855942 3.228914871721298e-89\n"
     ]
    }
   ],
   "source": [
    "tau, p_value = stats.kendalltau(idf_tau_ranking, sig_tau_ranking)\n",
    "print(tau, p_value)"
   ]
  },
  {
   "cell_type": "code",
   "execution_count": 241,
   "id": "2424bfc1",
   "metadata": {},
   "outputs": [
    {
     "name": "stdout",
     "output_type": "stream",
     "text": [
      "0.21610093455182658 6.943093560983525e-51\n"
     ]
    }
   ],
   "source": [
    "tau, p_value = stats.kendalltau(idf_tau_ranking, cos_tau_ranking)\n",
    "print(tau, p_value)"
   ]
  },
  {
   "cell_type": "code",
   "execution_count": 245,
   "id": "e6b66243",
   "metadata": {},
   "outputs": [],
   "source": [
    "f = open('GPT-2-for-Psycholinguistic-Applications/GPT-2 Sentence_Rankings', 'r')\n",
    "gpt_ranking = f.readlines()\n",
    "for i in range(len(gpt_ranking)):\n",
    "    gpt_ranking[i] = gpt_ranking[i].strip()"
   ]
  },
  {
   "cell_type": "code",
   "execution_count": 246,
   "id": "2a92487e",
   "metadata": {},
   "outputs": [],
   "source": [
    "gpt_tau_ranking = []\n",
    "for i in data:\n",
    "    gpt_tau_ranking.append(np.where(np.array(gpt_ranking)==i)[0][0])"
   ]
  },
  {
   "cell_type": "code",
   "execution_count": 247,
   "id": "9af1f195",
   "metadata": {},
   "outputs": [
    {
     "name": "stdout",
     "output_type": "stream",
     "text": [
      "0.13538422901972644 5.47638083605189e-21\n"
     ]
    }
   ],
   "source": [
    "tau, p_value = stats.kendalltau(gpt_tau_ranking, pca_tau_ranking)\n",
    "print(tau, p_value)"
   ]
  },
  {
   "cell_type": "code",
   "execution_count": 131,
   "id": "0dee9a88",
   "metadata": {},
   "outputs": [
    {
     "name": "stdout",
     "output_type": "stream",
     "text": [
      "-0.05384615384615385 0.624598563467762\n"
     ]
    }
   ],
   "source": [
    "tau, p_value = stats.kendalltau(gpt_tau_ranking, ica_tau_ranking)\n",
    "print(tau, p_value)"
   ]
  },
  {
   "cell_type": "code",
   "execution_count": 132,
   "id": "50b4a78e",
   "metadata": {},
   "outputs": [
    {
     "name": "stdout",
     "output_type": "stream",
     "text": [
      "-0.05128205128205128 0.6411858797379664\n"
     ]
    }
   ],
   "source": [
    "tau, p_value = stats.kendalltau(gpt_tau_ranking, poly_tau_ranking)\n",
    "print(tau, p_value)"
   ]
  },
  {
   "cell_type": "code",
   "execution_count": 135,
   "id": "2f10a2b5",
   "metadata": {},
   "outputs": [
    {
     "name": "stdout",
     "output_type": "stream",
     "text": [
      "0.06666666666666667 0.5446118423948019\n"
     ]
    }
   ],
   "source": [
    "tau, p_value = stats.kendalltau(gpt_tau_ranking, rbf_tau_ranking)\n",
    "print(tau, p_value)"
   ]
  },
  {
   "cell_type": "code",
   "execution_count": 134,
   "id": "0ec3d9d4",
   "metadata": {},
   "outputs": [
    {
     "name": "stdout",
     "output_type": "stream",
     "text": [
      "-0.08461538461538463 0.44191214062063056\n"
     ]
    }
   ],
   "source": [
    "tau, p_value = stats.kendalltau(gpt_tau_ranking, sig_tau_ranking)\n",
    "print(tau, p_value)"
   ]
  },
  {
   "cell_type": "code",
   "execution_count": 113,
   "id": "007de389",
   "metadata": {},
   "outputs": [
    {
     "name": "stdout",
     "output_type": "stream",
     "text": [
      "0.1794871794871795 0.10285976142339351\n"
     ]
    }
   ],
   "source": [
    "tau, p_value = stats.kendalltau(gpt_tau_ranking, cos_tau_ranking)\n",
    "print(tau, p_value)"
   ]
  },
  {
   "cell_type": "code",
   "execution_count": 114,
   "id": "97d67b05",
   "metadata": {},
   "outputs": [
    {
     "name": "stdout",
     "output_type": "stream",
     "text": [
      "0.5641025641025641 2.952482596295399e-07\n"
     ]
    }
   ],
   "source": [
    "tau, p_value = stats.kendalltau(gpt_tau_ranking, idf_tau_ranking)\n",
    "print(tau, p_value)"
   ]
  },
  {
   "cell_type": "code",
   "execution_count": 115,
   "id": "feda1a99",
   "metadata": {},
   "outputs": [],
   "source": [
    "f = open('Manual Sentence Rankings.txt', 'r')\n",
    "man_ranking = f.readlines()\n",
    "for i in range(len(man_ranking)):\n",
    "    man_ranking[i] = man_ranking[i].strip()"
   ]
  },
  {
   "cell_type": "code",
   "execution_count": 116,
   "id": "224ed913",
   "metadata": {},
   "outputs": [],
   "source": [
    "man_tau_ranking = []\n",
    "for i in data:\n",
    "    man_tau_ranking.append(np.where(np.array(man_ranking)==i)[0][0])"
   ]
  },
  {
   "cell_type": "code",
   "execution_count": 117,
   "id": "382afc27",
   "metadata": {},
   "outputs": [
    {
     "name": "stdout",
     "output_type": "stream",
     "text": [
      "0.08717948717948719 0.4282030561707131\n"
     ]
    }
   ],
   "source": [
    "tau, p_value = stats.kendalltau(pca_tau_ranking, man_tau_ranking)\n",
    "print(tau, p_value)"
   ]
  },
  {
   "cell_type": "code",
   "execution_count": 118,
   "id": "7a9f65f7",
   "metadata": {},
   "outputs": [
    {
     "name": "stdout",
     "output_type": "stream",
     "text": [
      "-0.06666666666666667 0.5446118423948019\n"
     ]
    }
   ],
   "source": [
    "tau, p_value = stats.kendalltau(ica_tau_ranking, man_tau_ranking)\n",
    "print(tau, p_value)"
   ]
  },
  {
   "cell_type": "code",
   "execution_count": 119,
   "id": "ad432441",
   "metadata": {},
   "outputs": [
    {
     "name": "stdout",
     "output_type": "stream",
     "text": [
      "-0.08974358974358974 0.4147447293562837\n"
     ]
    }
   ],
   "source": [
    "tau, p_value = stats.kendalltau(poly_tau_ranking, man_tau_ranking)\n",
    "print(tau, p_value)"
   ]
  },
  {
   "cell_type": "code",
   "execution_count": 120,
   "id": "b9fc9167",
   "metadata": {},
   "outputs": [
    {
     "name": "stdout",
     "output_type": "stream",
     "text": [
      "0.06923076923076923 0.5292470190010741\n"
     ]
    }
   ],
   "source": [
    "tau, p_value = stats.kendalltau(rbf_tau_ranking, man_tau_ranking)\n",
    "print(tau, p_value)"
   ]
  },
  {
   "cell_type": "code",
   "execution_count": 121,
   "id": "75a5d5ae",
   "metadata": {},
   "outputs": [
    {
     "name": "stdout",
     "output_type": "stream",
     "text": [
      "0.1435897435897436 0.19192149639323952\n"
     ]
    }
   ],
   "source": [
    "tau, p_value = stats.kendalltau(sig_tau_ranking, man_tau_ranking)\n",
    "print(tau, p_value)"
   ]
  },
  {
   "cell_type": "code",
   "execution_count": 122,
   "id": "4f2deede",
   "metadata": {},
   "outputs": [
    {
     "name": "stdout",
     "output_type": "stream",
     "text": [
      "0.13589743589743591 0.21682690771792557\n"
     ]
    }
   ],
   "source": [
    "tau, p_value = stats.kendalltau(cos_tau_ranking, man_tau_ranking)\n",
    "print(tau, p_value)"
   ]
  },
  {
   "cell_type": "code",
   "execution_count": 123,
   "id": "c3f3f154",
   "metadata": {},
   "outputs": [
    {
     "name": "stdout",
     "output_type": "stream",
     "text": [
      "0.38717948717948725 0.0004338099435909231\n"
     ]
    }
   ],
   "source": [
    "tau, p_value = stats.kendalltau(idf_tau_ranking, man_tau_ranking)\n",
    "print(tau, p_value)"
   ]
  },
  {
   "cell_type": "code",
   "execution_count": 124,
   "id": "e3640ea6",
   "metadata": {},
   "outputs": [
    {
     "name": "stdout",
     "output_type": "stream",
     "text": [
      "0.5512820512820513 5.444563244176376e-07\n"
     ]
    }
   ],
   "source": [
    "tau, p_value = stats.kendalltau(gpt_tau_ranking, man_tau_ranking)\n",
    "print(tau, p_value)"
   ]
  },
  {
   "cell_type": "code",
   "execution_count": null,
   "id": "15b32652",
   "metadata": {},
   "outputs": [],
   "source": []
  }
 ],
 "metadata": {
  "kernelspec": {
   "display_name": "Python 3 (ipykernel)",
   "language": "python",
   "name": "python3"
  },
  "language_info": {
   "codemirror_mode": {
    "name": "ipython",
    "version": 3
   },
   "file_extension": ".py",
   "mimetype": "text/x-python",
   "name": "python",
   "nbconvert_exporter": "python",
   "pygments_lexer": "ipython3",
   "version": "3.11.3"
  }
 },
 "nbformat": 4,
 "nbformat_minor": 5
}
