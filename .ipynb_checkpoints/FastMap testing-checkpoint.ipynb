{
 "cells": [
  {
   "cell_type": "code",
   "execution_count": 14,
   "id": "8273b284",
   "metadata": {},
   "outputs": [],
   "source": [
    "import sklearn, pandas as pd, numpy as np, seaborn as sns\n",
    "from sklearn.decomposition import PCA, FastICA, KernelPCA\n",
    "from sentence_transformers import SentenceTransformer\n",
    "import matplotlib.pyplot as plt\n",
    "from sklearn.preprocessing import StandardScaler\n",
    "from sklearn.manifold import TSNE\n",
    "from scipy import stats\n",
    "from math import ceil\n",
    "from random import randint\n",
    "import math\n",
    "import time"
   ]
  },
  {
   "cell_type": "code",
   "execution_count": 2,
   "id": "73f2bb22",
   "metadata": {},
   "outputs": [
    {
     "data": {
      "application/vnd.jupyter.widget-view+json": {
       "model_id": "0608367e88444275ac80619c89205b30",
       "version_major": 2,
       "version_minor": 0
      },
      "text/plain": [
       "Batches:   0%|          | 0/68 [00:00<?, ?it/s]"
      ]
     },
     "metadata": {},
     "output_type": "display_data"
    }
   ],
   "source": [
    "#read the text file\n",
    "file = open(\"yelp/train.txt\", \"r\", encoding = \"utf8\")\n",
    "file_data = file.read()\n",
    "lines = file_data.splitlines()\n",
    "file.close()\n",
    "\n",
    "data = []\n",
    "\n",
    "#only use senteces that contain the keyword\n",
    "keyword = \"pizza\"\n",
    "for s in lines:\n",
    "    if keyword in s:\n",
    "        data.append(s)\n",
    "\n",
    "#appending a random weird sentence to see if it pops to the top of the sentence rankings        \n",
    "data.append(\"Colorless green ideas sleep furiously .\")\n",
    "\n",
    "#data = formatting(data)\n",
    "\n",
    "#generates embedding for the sentences\n",
    "emb = SentenceTransformer('sentence-transformers/paraphrase-MiniLM-L6-v2')\n",
    "#emb = SentenceTransformer('sentence-transformers/all-mpnet-base-v2')\n",
    "embed = emb.encode(data, show_progress_bar = True)"
   ]
  },
  {
   "cell_type": "code",
   "execution_count": 8,
   "id": "63ece262",
   "metadata": {},
   "outputs": [
    {
     "name": "stdout",
     "output_type": "stream",
     "text": [
      "2146\n"
     ]
    }
   ],
   "source": [
    "print(len(data))"
   ]
  },
  {
   "cell_type": "code",
   "execution_count": 26,
   "id": "df6eeb36",
   "metadata": {},
   "outputs": [],
   "source": [
    "dist=[[0 for i in range(11)] for j in range(11)]\n",
    "col = 0\n",
    "def distance(a,b,col):\n",
    "    if(col==1):\n",
    "        return dist[a][b]   \n",
    "    else:\n",
    "        res=(math.pow(distance(a,b,col-1),2)-(math.pow(X[a][col-1]-X[b][col-1],2)))\n",
    "        return (math.sqrt(res))\n",
    "\n",
    "def chooseDistantObject(col):\n",
    "    b=randint(1,10)\n",
    "#   start with any random value\n",
    "    count=18\n",
    "    g_max=0\n",
    "    g_a=0\n",
    "    g_b=0\n",
    "    \n",
    "    while(count>0):\n",
    "        max_dist=0\n",
    "        for i in range(1,11):\n",
    "            d=distance(b,i,col)\n",
    "            if(d>max_dist):\n",
    "                max_dist=d\n",
    "                a=i\n",
    "        \n",
    "        if(max_dist>g_max):\n",
    "            g_max=max_dist\n",
    "            g_a=a\n",
    "            g_b=b\n",
    "        elif(max_dist==g_max):\n",
    "            #compare ids\n",
    "            g_min=min(g_a,g_b)\n",
    "            c_min=min(a,b)\n",
    "            if(c_min==min(g_min,c_min)):\n",
    "                g_a=a\n",
    "                g_b=b\n",
    "       \n",
    "        b=a\n",
    "        count-=1;\n",
    "    \n",
    "    # Make point with lower id value as origin\n",
    "    if(g_b<g_a):\n",
    "        temp=g_a;\n",
    "        g_a=g_b;\n",
    "        g_b=temp;\n",
    "    return g_a,g_b\n",
    "\n",
    "def FastMap(k):\n",
    "    global col\n",
    "    global embed\n",
    "    if(k<=0):\n",
    "        return;\n",
    "    else:\n",
    "        col+=1\n",
    "\n",
    "    a,b=chooseDistantObject(col)\n",
    "\n",
    "    if(distance(a,b,col)==0):\n",
    "        for i in range(1,11):\n",
    "            X[i][col]=0\n",
    "        return\n",
    "\n",
    "    for i in range(1,11):\n",
    "        #calculate projection on line a|<----------------------------------->|b\n",
    "        if(i==a):\n",
    "            dim_curr=0\n",
    "        elif(i==b):\n",
    "            dim_curr=distance(a,b,col)\n",
    "        else:\n",
    "            dim_curr=(math.pow(distance(a,i,col),2)+math.pow(distance(a,b,col),2)\n",
    "                                 -math.pow(distance(b,i,col),2))/(2*distance(a,b,col))\n",
    "        \n",
    "        X[i][col]=dim_curr\n",
    "         \n",
    "    FastMap(k-1) #Call FastMap again with updated distances and k-1 dimensions\n"
   ]
  },
  {
   "cell_type": "code",
   "execution_count": null,
   "id": "f2b739c4",
   "metadata": {},
   "outputs": [],
   "source": []
  },
  {
   "cell_type": "code",
   "execution_count": 27,
   "id": "2dc375ea",
   "metadata": {},
   "outputs": [
    {
     "ename": "UnboundLocalError",
     "evalue": "cannot access local variable 'a' where it is not associated with a value",
     "output_type": "error",
     "traceback": [
      "\u001b[1;31m---------------------------------------------------------------------------\u001b[0m",
      "\u001b[1;31mUnboundLocalError\u001b[0m                         Traceback (most recent call last)",
      "Cell \u001b[1;32mIn[27], line 1\u001b[0m\n\u001b[1;32m----> 1\u001b[0m FastMap(\u001b[38;5;241m75\u001b[39m)\n",
      "Cell \u001b[1;32mIn[26], line 56\u001b[0m, in \u001b[0;36mFastMap\u001b[1;34m(k)\u001b[0m\n\u001b[0;32m     53\u001b[0m \u001b[38;5;28;01melse\u001b[39;00m:\n\u001b[0;32m     54\u001b[0m     col\u001b[38;5;241m+\u001b[39m\u001b[38;5;241m=\u001b[39m\u001b[38;5;241m1\u001b[39m\n\u001b[1;32m---> 56\u001b[0m a,b\u001b[38;5;241m=\u001b[39mchooseDistantObject(col)\n\u001b[0;32m     58\u001b[0m \u001b[38;5;28;01mif\u001b[39;00m(distance(a,b,col)\u001b[38;5;241m==\u001b[39m\u001b[38;5;241m0\u001b[39m):\n\u001b[0;32m     59\u001b[0m     \u001b[38;5;28;01mfor\u001b[39;00m i \u001b[38;5;129;01min\u001b[39;00m \u001b[38;5;28mrange\u001b[39m(\u001b[38;5;241m1\u001b[39m,\u001b[38;5;241m11\u001b[39m):\n",
      "Cell \u001b[1;32mIn[26], line 33\u001b[0m, in \u001b[0;36mchooseDistantObject\u001b[1;34m(col)\u001b[0m\n\u001b[0;32m     30\u001b[0m \u001b[38;5;28;01melif\u001b[39;00m(max_dist\u001b[38;5;241m==\u001b[39mg_max):\n\u001b[0;32m     31\u001b[0m     \u001b[38;5;66;03m#compare ids\u001b[39;00m\n\u001b[0;32m     32\u001b[0m     g_min\u001b[38;5;241m=\u001b[39m\u001b[38;5;28mmin\u001b[39m(g_a,g_b)\n\u001b[1;32m---> 33\u001b[0m     c_min\u001b[38;5;241m=\u001b[39m\u001b[38;5;28mmin\u001b[39m(a,b)\n\u001b[0;32m     34\u001b[0m     \u001b[38;5;28;01mif\u001b[39;00m(c_min\u001b[38;5;241m==\u001b[39m\u001b[38;5;28mmin\u001b[39m(g_min,c_min)):\n\u001b[0;32m     35\u001b[0m         g_a\u001b[38;5;241m=\u001b[39ma\n",
      "\u001b[1;31mUnboundLocalError\u001b[0m: cannot access local variable 'a' where it is not associated with a value"
     ]
    }
   ],
   "source": [
    "FastMap(75)"
   ]
  },
  {
   "cell_type": "code",
   "execution_count": null,
   "id": "30e7113a",
   "metadata": {},
   "outputs": [],
   "source": []
  }
 ],
 "metadata": {
  "kernelspec": {
   "display_name": "Python 3 (ipykernel)",
   "language": "python",
   "name": "python3"
  },
  "language_info": {
   "codemirror_mode": {
    "name": "ipython",
    "version": 3
   },
   "file_extension": ".py",
   "mimetype": "text/x-python",
   "name": "python",
   "nbconvert_exporter": "python",
   "pygments_lexer": "ipython3",
   "version": "3.11.3"
  }
 },
 "nbformat": 4,
 "nbformat_minor": 5
}
