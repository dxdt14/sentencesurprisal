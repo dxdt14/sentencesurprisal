{
 "cells": [
  {
   "cell_type": "code",
   "execution_count": 33,
   "id": "f2074d34",
   "metadata": {},
   "outputs": [],
   "source": [
    "import numpy as np, pandas as pd\n",
    "import matplotlib.pyplot as plt"
   ]
  },
  {
   "cell_type": "code",
   "execution_count": 10,
   "id": "434c2d59",
   "metadata": {},
   "outputs": [],
   "source": [
    "df = pd.read_excel(\"./Data for surprising sentences presentation.xlsx\", sheet_name=0, index_col=0).T"
   ]
  },
  {
   "cell_type": "code",
   "execution_count": 11,
   "id": "39c752eb",
   "metadata": {},
   "outputs": [
    {
     "data": {
      "text/html": [
       "<div>\n",
       "<style scoped>\n",
       "    .dataframe tbody tr th:only-of-type {\n",
       "        vertical-align: middle;\n",
       "    }\n",
       "\n",
       "    .dataframe tbody tr th {\n",
       "        vertical-align: top;\n",
       "    }\n",
       "\n",
       "    .dataframe thead th {\n",
       "        text-align: right;\n",
       "    }\n",
       "</style>\n",
       "<table border=\"1\" class=\"dataframe\">\n",
       "  <thead>\n",
       "    <tr style=\"text-align: right;\">\n",
       "      <th></th>\n",
       "      <th>Weird Sentence Rank</th>\n",
       "      <th>Timing</th>\n",
       "      <th>Min_Comps Req for Best</th>\n",
       "      <th>Comp to GPT-2</th>\n",
       "      <th>Comp to IDF</th>\n",
       "      <th>Comp to GPT with Min_Comps</th>\n",
       "      <th>Comp to IDF with Min_Comps</th>\n",
       "    </tr>\n",
       "  </thead>\n",
       "  <tbody>\n",
       "    <tr>\n",
       "      <th>PCA</th>\n",
       "      <td>1.0</td>\n",
       "      <td>0.076582</td>\n",
       "      <td>50.0</td>\n",
       "      <td>0.135450</td>\n",
       "      <td>0.246197</td>\n",
       "      <td>0.061675</td>\n",
       "      <td>0.177634</td>\n",
       "    </tr>\n",
       "    <tr>\n",
       "      <th>ICA</th>\n",
       "      <td>1.0</td>\n",
       "      <td>0.242674</td>\n",
       "      <td>41.0</td>\n",
       "      <td>0.281155</td>\n",
       "      <td>0.371161</td>\n",
       "      <td>0.179020</td>\n",
       "      <td>0.282241</td>\n",
       "    </tr>\n",
       "    <tr>\n",
       "      <th>Poly KPCA</th>\n",
       "      <td>2.0</td>\n",
       "      <td>0.243924</td>\n",
       "      <td>51.0</td>\n",
       "      <td>-0.049614</td>\n",
       "      <td>0.077110</td>\n",
       "      <td>-0.084860</td>\n",
       "      <td>0.030500</td>\n",
       "    </tr>\n",
       "    <tr>\n",
       "      <th>RBF KPCA</th>\n",
       "      <td>1.0</td>\n",
       "      <td>0.215604</td>\n",
       "      <td>51.0</td>\n",
       "      <td>0.157878</td>\n",
       "      <td>0.231306</td>\n",
       "      <td>0.197918</td>\n",
       "      <td>0.279965</td>\n",
       "    </tr>\n",
       "    <tr>\n",
       "      <th>Sig KPCA</th>\n",
       "      <td>1.0</td>\n",
       "      <td>0.182441</td>\n",
       "      <td>91.0</td>\n",
       "      <td>0.184037</td>\n",
       "      <td>0.288463</td>\n",
       "      <td>0.223016</td>\n",
       "      <td>0.319324</td>\n",
       "    </tr>\n",
       "  </tbody>\n",
       "</table>\n",
       "</div>"
      ],
      "text/plain": [
       "           Weird Sentence Rank    Timing  Min_Comps Req for Best  \\\n",
       "PCA                        1.0  0.076582                    50.0   \n",
       "ICA                        1.0  0.242674                    41.0   \n",
       "Poly KPCA                  2.0  0.243924                    51.0   \n",
       "RBF KPCA                   1.0  0.215604                    51.0   \n",
       "Sig KPCA                   1.0  0.182441                    91.0   \n",
       "\n",
       "           Comp to GPT-2  Comp to IDF  Comp to GPT with Min_Comps  \\\n",
       "PCA             0.135450     0.246197                    0.061675   \n",
       "ICA             0.281155     0.371161                    0.179020   \n",
       "Poly KPCA      -0.049614     0.077110                   -0.084860   \n",
       "RBF KPCA        0.157878     0.231306                    0.197918   \n",
       "Sig KPCA        0.184037     0.288463                    0.223016   \n",
       "\n",
       "           Comp to IDF with Min_Comps  \n",
       "PCA                          0.177634  \n",
       "ICA                          0.282241  \n",
       "Poly KPCA                    0.030500  \n",
       "RBF KPCA                     0.279965  \n",
       "Sig KPCA                     0.319324  "
      ]
     },
     "execution_count": 11,
     "metadata": {},
     "output_type": "execute_result"
    }
   ],
   "source": [
    "df.head()"
   ]
  },
  {
   "cell_type": "code",
   "execution_count": 120,
   "id": "26cdc2e5",
   "metadata": {},
   "outputs": [
    {
     "name": "stdout",
     "output_type": "stream",
     "text": [
      "[['PCA'], ['ICA'], ['Poly KPCA'], ['RBF KPCA'], ['Sig KPCA'], ['Cos KPCA'], ['TF-IDF'], ['GPT-2']]\n"
     ]
    }
   ],
   "source": [
    "weird_sen_ranking = [[\"PCA\"], [\"ICA\"], [\"Poly KPCA\"], [\"RBF KPCA\"], [\"Sig KPCA\"], [\"Cos KPCA\"], [\"TF-IDF\"], [\"GPT-2\"]]\n",
    "datasets = [\"Method\", \"pizza\", \"staff\", \"good\", \"food\", \"pre-ranked\"]\n",
    "methods = [\"PCA\", \"ICA\", \"Poly KPCA\", \"RBF KPCA\", \"Sig KPCA\", \"Cos KPCA\", \"TF-IDF\", \"GPT-2\"]\n",
    "print(weird_sen_ranking)\n",
    "lens = [2146, 3529, 579, 10929, 40]"
   ]
  },
  {
   "cell_type": "code",
   "execution_count": 121,
   "id": "53ecabbd",
   "metadata": {},
   "outputs": [],
   "source": [
    "for i in range(5):\n",
    "    df = pd.read_excel(\"./Data for surprising sentences presentation.xlsx\", sheet_name=i, index_col=0).T\n",
    "    rank_values = df[\"Weird Sentence Rank\"].values\n",
    "    for j in range(len(rank_values)):\n",
    "        weird_sen_ranking[j].append(rank_values[j]/lens[i])"
   ]
  },
  {
   "cell_type": "code",
   "execution_count": 122,
   "id": "ac7ac449",
   "metadata": {},
   "outputs": [
    {
     "name": "stdout",
     "output_type": "stream",
     "text": [
      "['PCA', 0.00046598322460391424, 0.005950694247662227, 0.0017271157167530224, 0.018574434989477535, 0.075]\n"
     ]
    }
   ],
   "source": [
    "print(weird_sen_ranking[0])"
   ]
  },
  {
   "cell_type": "code",
   "execution_count": 123,
   "id": "7a977daf",
   "metadata": {},
   "outputs": [
    {
     "name": "stdout",
     "output_type": "stream",
     "text": [
      "      Method     pizza     staff      good      food  pre-ranked\n",
      "0        PCA  0.000466  0.005951  0.001727  0.018574       0.075\n",
      "1        ICA  0.000466  0.001133  0.393782  0.006862       0.925\n",
      "2  Poly KPCA  0.000932  0.000283  0.015544  0.107604       0.200\n",
      "3   RBF KPCA  0.000466  0.012751  0.013817  0.000091       0.950\n",
      "4   Sig KPCA  0.000466  0.007934  0.001727  0.004941       0.050\n",
      "5   Cos KPCA  0.463653  0.452819  0.053541  0.673529       1.000\n",
      "6     TF-IDF  0.000932  0.000283  0.001727  0.000091       0.025\n",
      "7      GPT-2  0.011184  0.007934  0.018998  0.008326       0.025\n"
     ]
    },
    {
     "data": {
      "text/plain": [
       "<Axes: title={'center': 'Inversely Normalized Weird Sentence Ranking'}, xlabel='Method'>"
      ]
     },
     "execution_count": 123,
     "metadata": {},
     "output_type": "execute_result"
    },
    {
     "data": {
      "image/png": "[encoded data removed]",
      "text/plain": [
       "<Figure size 640x480 with 1 Axes>"
      ]
     },
     "metadata": {},
     "output_type": "display_data"
    }
   ],
   "source": [
    "df_plot = pd.DataFrame(weird_sen_ranking,\n",
    "                  columns=datasets)\n",
    "# view data\n",
    "print(df_plot)\n",
    "  \n",
    "# plot grouped bar chart\n",
    "df_plot.plot(x='Method',\n",
    "        kind='bar',\n",
    "        stacked=False,\n",
    "        title='Inversely Normalized Weird Sentence Ranking')\n",
    "# plt.figure(figsize = (8,8))\n",
    "# plt.bar(x = methods, height = weird_sen_ranking[0], label = \"pizza\", color = \"turquoise\", width = 0.25)\n",
    "# plt.bar(x = methods + 0.2, height = weird_sen_ranking[1], label = \"staff\", color = \"red\")"
   ]
  },
  {
   "cell_type": "code",
   "execution_count": null,
   "id": "aff896ed",
   "metadata": {},
   "outputs": [],
   "source": []
  }
 ],
 "metadata": {
  "kernelspec": {
   "display_name": "Python 3 (ipykernel)",
   "language": "python",
   "name": "python3"
  },
  "language_info": {
   "codemirror_mode": {
    "name": "ipython",
    "version": 3
   },
   "file_extension": ".py",
   "mimetype": "text/x-python",
   "name": "python",
   "nbconvert_exporter": "python",
   "pygments_lexer": "ipython3",
   "version": "3.11.3"
  }
 },
 "nbformat": 4,
 "nbformat_minor": 5
}
