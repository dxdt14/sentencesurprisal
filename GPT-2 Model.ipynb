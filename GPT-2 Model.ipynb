{
 "cells": [
  {
   "cell_type": "code",
   "execution_count": 2,
   "id": "5ce4d4ee",
   "metadata": {},
   "outputs": [],
   "source": [
    "from aitextgen.TokenDataset import TokenDataset\n",
    "from aitextgen.tokenizers import train_tokenizer\n",
    "from aitextgen.utils import GPT2ConfigCPU\n",
    "from aitextgen import aitextgen\n",
    "import torch"
   ]
  },
  {
   "cell_type": "code",
   "execution_count": 2,
   "id": "aa7b6817",
   "metadata": {},
   "outputs": [],
   "source": [
    "torch.cuda.is_available = lambda: False"
   ]
  },
  {
   "cell_type": "code",
   "execution_count": 3,
   "id": "cc9ecddc",
   "metadata": {},
   "outputs": [],
   "source": [
    "file_name = \"yelp/train.txt\""
   ]
  },
  {
   "cell_type": "code",
   "execution_count": 4,
   "id": "97dc0b35",
   "metadata": {},
   "outputs": [],
   "source": [
    "train_tokenizer(file_name)\n",
    "tokenizer_file = \"aitextgen.tokenizer.json\""
   ]
  },
  {
   "cell_type": "code",
   "execution_count": 5,
   "id": "be6c5ae0",
   "metadata": {},
   "outputs": [],
   "source": [
    "config = GPT2ConfigCPU()"
   ]
  },
  {
   "cell_type": "code",
   "execution_count": 6,
   "id": "596a1465",
   "metadata": {},
   "outputs": [
    {
     "name": "stderr",
     "output_type": "stream",
     "text": [
      "Generate config GenerationConfig {\n",
      "  \"_from_model_config\": true,\n",
      "  \"bos_token_id\": 0,\n",
      "  \"eos_token_id\": 0,\n",
      "  \"transformers_version\": \"4.29.2\"\n",
      "}\n",
      "\n"
     ]
    }
   ],
   "source": [
    "ai = aitextgen(tokenizer_file = tokenizer_file, config = config, to_gpu = False)"
   ]
  },
  {
   "cell_type": "code",
   "execution_count": 7,
   "id": "7e7350c9",
   "metadata": {},
   "outputs": [
    {
     "data": {
      "application/vnd.jupyter.widget-view+json": {
       "model_id": "3cab673d415f4458a815c4359aa770b3",
       "version_major": 2,
       "version_minor": 0
      },
      "text/plain": [
       "  0%|                                                                            | 0/200000 [00:00<?, ?it/s]"
      ]
     },
     "metadata": {},
     "output_type": "display_data"
    }
   ],
   "source": [
    "data = TokenDataset(file_name, tokenizer_file=tokenizer_file, block_size=64)"
   ]
  },
  {
   "cell_type": "code",
   "execution_count": null,
   "id": "6cbe9fce",
   "metadata": {},
   "outputs": [],
   "source": [
    "ai.train(data, batch_size = 8, num_steps=50000, save_every=5000, generate_every=5000)"
   ]
  },
  {
   "cell_type": "code",
   "execution_count": 3,
   "id": "d98f52c4",
   "metadata": {},
   "outputs": [
    {
     "name": "stderr",
     "output_type": "stream",
     "text": [
      "Generate config GenerationConfig {\n",
      "  \"_from_model_config\": true,\n",
      "  \"bos_token_id\": 0,\n",
      "  \"eos_token_id\": 0,\n",
      "  \"transformers_version\": \"4.29.2\"\n",
      "}\n",
      "\n",
      "loading configuration file trained_model\\generation_config.json\n",
      "Generate config GenerationConfig {\n",
      "  \"_from_model_config\": true,\n",
      "  \"bos_token_id\": 0,\n",
      "  \"eos_token_id\": 0,\n",
      "  \"transformers_version\": \"4.29.2\"\n",
      "}\n",
      "\n"
     ]
    }
   ],
   "source": [
    "ai2 = aitextgen(model_folder = \"trained_model\", tokenizer_file = \"aitextgen.tokenizer.json\")"
   ]
  },
  {
   "cell_type": "code",
   "execution_count": 5,
   "id": "c5ab2641",
   "metadata": {},
   "outputs": [
    {
     "name": "stderr",
     "output_type": "stream",
     "text": [
      "Generate config GenerationConfig {\n",
      "  \"_from_model_config\": true,\n",
      "  \"bos_token_id\": 0,\n",
      "  \"eos_token_id\": 0,\n",
      "  \"transformers_version\": \"4.29.2\"\n",
      "}\n",
      "\n",
      "A decoder-only architecture is being used, but right-padding was detected! For correct generation results, please set `padding_side='left'` when initializing the tokenizer.\n"
     ]
    },
    {
     "name": "stdout",
     "output_type": "stream",
     "text": [
      "/blunch\n",
      "i really enjoyed it.\n",
      "this is a very nice place for a good meal.\n",
      "the food is definitely worth it.\n",
      "the food is awesome!\n",
      "the owner was welcoming and nice.\n",
      "the restaurant is fantastic!\n",
      "the second time\n"
     ]
    }
   ],
   "source": [
    "ai2.generate(1)"
   ]
  },
  {
   "cell_type": "code",
   "execution_count": 6,
   "id": "fa3381ff",
   "metadata": {},
   "outputs": [
    {
     "name": "stderr",
     "output_type": "stream",
     "text": [
      "Configuration saved in my-model\\generation_config.json\n",
      "tokenizer config file saved in my-model\\tokenizer_config.json\n",
      "Special tokens file saved in my-model\\special_tokens_map.json\n"
     ]
    }
   ],
   "source": [
    "ai2.save_for_upload()"
   ]
  },
  {
   "cell_type": "code",
   "execution_count": null,
   "id": "030447c1",
   "metadata": {},
   "outputs": [],
   "source": []
  }
 ],
 "metadata": {
  "kernelspec": {
   "display_name": "Python (aitextgen)",
   "language": "python",
   "name": "aitextgen"
  },
  "language_info": {
   "codemirror_mode": {
    "name": "ipython",
    "version": 3
   },
   "file_extension": ".py",
   "mimetype": "text/x-python",
   "name": "python",
   "nbconvert_exporter": "python",
   "pygments_lexer": "ipython3",
   "version": "3.9.15"
  }
 },
 "nbformat": 4,
 "nbformat_minor": 5
}
